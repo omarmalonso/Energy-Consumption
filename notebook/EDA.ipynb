{
 "cells": [
  {
   "cell_type": "markdown",
   "metadata": {},
   "source": [
    "# Exploratory Data Analysis: Energy Consumption For Chicago In 2010"
   ]
  },
  {
   "cell_type": "markdown",
   "metadata": {},
   "source": [
    "## Life cycle of machine learning project:\n",
    "1. Understanding the problem\n",
    "1. Data collection\n",
    "1. Data checks to perform \n",
    "1. Exploratory data analysis\n",
    "1. Data pre-preocessing\n",
    "1. Model Training\n",
    "1. Choose best model"
   ]
  },
  {
   "cell_type": "markdown",
   "metadata": {},
   "source": [
    "### 1: Understanding the problem\n",
    "The point of this project is to show how energy consumption is affected by variables such as time of the year, type of building, size of building, number of people, etc."
   ]
  },
  {
   "cell_type": "markdown",
   "metadata": {},
   "source": [
    "### 2: Data Collection\n",
    "- Dataset <a href='https://data.cityofchicago.org/Environment-Sustainable-Development/Energy-Usage-2010/8yq3-m6wp/about_data'>source</a>\n"
   ]
  },
  {
   "cell_type": "markdown",
   "metadata": {},
   "source": [
    "### 2.1: Import data and required packages"
   ]
  },
  {
   "cell_type": "code",
   "execution_count": 10,
   "metadata": {},
   "outputs": [],
   "source": [
    "import pandas as pd\n",
    "import numpy as np\n",
    "import seaborn as sb\n",
    "import matplotlib.pyplot as plt\n",
    "%matplotlib inline\n",
    "import warnings\n",
    "warnings.filterwarnings('ignore')"
   ]
  },
  {
   "cell_type": "markdown",
   "metadata": {},
   "source": [
    "### Read and print 5 first rows of dataset"
   ]
  },
  {
   "cell_type": "code",
   "execution_count": 12,
   "metadata": {},
   "outputs": [
    {
     "data": {
      "text/html": [
       "<div>\n",
       "<style scoped>\n",
       "    .dataframe tbody tr th:only-of-type {\n",
       "        vertical-align: middle;\n",
       "    }\n",
       "\n",
       "    .dataframe tbody tr th {\n",
       "        vertical-align: top;\n",
       "    }\n",
       "\n",
       "    .dataframe thead th {\n",
       "        text-align: right;\n",
       "    }\n",
       "</style>\n",
       "<table border=\"1\" class=\"dataframe\">\n",
       "  <thead>\n",
       "    <tr style=\"text-align: right;\">\n",
       "      <th></th>\n",
       "      <th>COMMUNITY AREA NAME</th>\n",
       "      <th>CENSUS BLOCK</th>\n",
       "      <th>BUILDING TYPE</th>\n",
       "      <th>BUILDING_SUBTYPE</th>\n",
       "      <th>KWH JANUARY 2010</th>\n",
       "      <th>KWH FEBRUARY 2010</th>\n",
       "      <th>KWH MARCH 2010</th>\n",
       "      <th>KWH APRIL 2010</th>\n",
       "      <th>KWH MAY 2010</th>\n",
       "      <th>KWH JUNE 2010</th>\n",
       "      <th>...</th>\n",
       "      <th>TOTAL POPULATION</th>\n",
       "      <th>TOTAL UNITS</th>\n",
       "      <th>AVERAGE STORIES</th>\n",
       "      <th>AVERAGE BUILDING AGE</th>\n",
       "      <th>AVERAGE HOUSESIZE</th>\n",
       "      <th>OCCUPIED UNITS</th>\n",
       "      <th>OCCUPIED UNITS PERCENTAGE</th>\n",
       "      <th>RENTER-OCCUPIED HOUSING UNITS</th>\n",
       "      <th>RENTER-OCCUPIED HOUSING PERCENTAGE</th>\n",
       "      <th>OCCUPIED HOUSING UNITS</th>\n",
       "    </tr>\n",
       "  </thead>\n",
       "  <tbody>\n",
       "    <tr>\n",
       "      <th>0</th>\n",
       "      <td>Archer Heights</td>\n",
       "      <td>1.703157e+14</td>\n",
       "      <td>Residential</td>\n",
       "      <td>Multi &lt; 7</td>\n",
       "      <td>NaN</td>\n",
       "      <td>NaN</td>\n",
       "      <td>NaN</td>\n",
       "      <td>NaN</td>\n",
       "      <td>NaN</td>\n",
       "      <td>NaN</td>\n",
       "      <td>...</td>\n",
       "      <td>89.0</td>\n",
       "      <td>24.0</td>\n",
       "      <td>2.0</td>\n",
       "      <td>71.33</td>\n",
       "      <td>3.87</td>\n",
       "      <td>23.0</td>\n",
       "      <td>0.9582</td>\n",
       "      <td>9.0</td>\n",
       "      <td>0.3910</td>\n",
       "      <td>23.0</td>\n",
       "    </tr>\n",
       "    <tr>\n",
       "      <th>1</th>\n",
       "      <td>Ashburn</td>\n",
       "      <td>1.703170e+14</td>\n",
       "      <td>Residential</td>\n",
       "      <td>Multi 7+</td>\n",
       "      <td>7334.0</td>\n",
       "      <td>7741.0</td>\n",
       "      <td>4214.0</td>\n",
       "      <td>4284.0</td>\n",
       "      <td>2518.0</td>\n",
       "      <td>4273.0</td>\n",
       "      <td>...</td>\n",
       "      <td>112.0</td>\n",
       "      <td>67.0</td>\n",
       "      <td>2.0</td>\n",
       "      <td>41.00</td>\n",
       "      <td>1.81</td>\n",
       "      <td>62.0</td>\n",
       "      <td>0.9254</td>\n",
       "      <td>50.0</td>\n",
       "      <td>0.8059</td>\n",
       "      <td>62.0</td>\n",
       "    </tr>\n",
       "    <tr>\n",
       "      <th>2</th>\n",
       "      <td>Auburn Gresham</td>\n",
       "      <td>1.703171e+14</td>\n",
       "      <td>Commercial</td>\n",
       "      <td>Multi &lt; 7</td>\n",
       "      <td>NaN</td>\n",
       "      <td>NaN</td>\n",
       "      <td>NaN</td>\n",
       "      <td>NaN</td>\n",
       "      <td>NaN</td>\n",
       "      <td>NaN</td>\n",
       "      <td>...</td>\n",
       "      <td>102.0</td>\n",
       "      <td>48.0</td>\n",
       "      <td>3.0</td>\n",
       "      <td>86.00</td>\n",
       "      <td>3.00</td>\n",
       "      <td>34.0</td>\n",
       "      <td>0.7082</td>\n",
       "      <td>23.0</td>\n",
       "      <td>0.6759</td>\n",
       "      <td>34.0</td>\n",
       "    </tr>\n",
       "    <tr>\n",
       "      <th>3</th>\n",
       "      <td>Austin</td>\n",
       "      <td>1.703125e+14</td>\n",
       "      <td>Commercial</td>\n",
       "      <td>Multi &lt; 7</td>\n",
       "      <td>NaN</td>\n",
       "      <td>NaN</td>\n",
       "      <td>NaN</td>\n",
       "      <td>NaN</td>\n",
       "      <td>NaN</td>\n",
       "      <td>NaN</td>\n",
       "      <td>...</td>\n",
       "      <td>121.0</td>\n",
       "      <td>56.0</td>\n",
       "      <td>2.0</td>\n",
       "      <td>84.00</td>\n",
       "      <td>2.95</td>\n",
       "      <td>41.0</td>\n",
       "      <td>0.7321</td>\n",
       "      <td>32.0</td>\n",
       "      <td>0.7800</td>\n",
       "      <td>41.0</td>\n",
       "    </tr>\n",
       "    <tr>\n",
       "      <th>4</th>\n",
       "      <td>Austin</td>\n",
       "      <td>1.703125e+14</td>\n",
       "      <td>Commercial</td>\n",
       "      <td>Multi &lt; 7</td>\n",
       "      <td>NaN</td>\n",
       "      <td>NaN</td>\n",
       "      <td>NaN</td>\n",
       "      <td>NaN</td>\n",
       "      <td>NaN</td>\n",
       "      <td>NaN</td>\n",
       "      <td>...</td>\n",
       "      <td>62.0</td>\n",
       "      <td>23.0</td>\n",
       "      <td>2.0</td>\n",
       "      <td>85.00</td>\n",
       "      <td>3.26</td>\n",
       "      <td>19.0</td>\n",
       "      <td>0.8261</td>\n",
       "      <td>11.0</td>\n",
       "      <td>0.5790</td>\n",
       "      <td>19.0</td>\n",
       "    </tr>\n",
       "  </tbody>\n",
       "</table>\n",
       "<p>5 rows × 73 columns</p>\n",
       "</div>"
      ],
      "text/plain": [
       "  COMMUNITY AREA NAME  CENSUS BLOCK BUILDING TYPE BUILDING_SUBTYPE  \\\n",
       "0      Archer Heights  1.703157e+14   Residential        Multi < 7   \n",
       "1             Ashburn  1.703170e+14   Residential         Multi 7+   \n",
       "2      Auburn Gresham  1.703171e+14    Commercial        Multi < 7   \n",
       "3              Austin  1.703125e+14    Commercial        Multi < 7   \n",
       "4              Austin  1.703125e+14    Commercial        Multi < 7   \n",
       "\n",
       "   KWH JANUARY 2010  KWH FEBRUARY 2010  KWH MARCH 2010  KWH APRIL 2010  \\\n",
       "0               NaN                NaN             NaN             NaN   \n",
       "1            7334.0             7741.0          4214.0          4284.0   \n",
       "2               NaN                NaN             NaN             NaN   \n",
       "3               NaN                NaN             NaN             NaN   \n",
       "4               NaN                NaN             NaN             NaN   \n",
       "\n",
       "   KWH MAY 2010  KWH JUNE 2010  ...  TOTAL POPULATION  TOTAL UNITS  \\\n",
       "0           NaN            NaN  ...              89.0         24.0   \n",
       "1        2518.0         4273.0  ...             112.0         67.0   \n",
       "2           NaN            NaN  ...             102.0         48.0   \n",
       "3           NaN            NaN  ...             121.0         56.0   \n",
       "4           NaN            NaN  ...              62.0         23.0   \n",
       "\n",
       "   AVERAGE STORIES  AVERAGE BUILDING AGE  AVERAGE HOUSESIZE  OCCUPIED UNITS  \\\n",
       "0              2.0                 71.33               3.87            23.0   \n",
       "1              2.0                 41.00               1.81            62.0   \n",
       "2              3.0                 86.00               3.00            34.0   \n",
       "3              2.0                 84.00               2.95            41.0   \n",
       "4              2.0                 85.00               3.26            19.0   \n",
       "\n",
       "   OCCUPIED UNITS PERCENTAGE RENTER-OCCUPIED HOUSING UNITS  \\\n",
       "0                     0.9582                           9.0   \n",
       "1                     0.9254                          50.0   \n",
       "2                     0.7082                          23.0   \n",
       "3                     0.7321                          32.0   \n",
       "4                     0.8261                          11.0   \n",
       "\n",
       "   RENTER-OCCUPIED HOUSING PERCENTAGE  OCCUPIED HOUSING UNITS  \n",
       "0                              0.3910                    23.0  \n",
       "1                              0.8059                    62.0  \n",
       "2                              0.6759                    34.0  \n",
       "3                              0.7800                    41.0  \n",
       "4                              0.5790                    19.0  \n",
       "\n",
       "[5 rows x 73 columns]"
      ]
     },
     "execution_count": 12,
     "metadata": {},
     "output_type": "execute_result"
    }
   ],
   "source": [
    "df = pd.read_csv('data/chicago_energy_consumption.csv')\n",
    "df.head()"
   ]
  },
  {
   "cell_type": "markdown",
   "metadata": {},
   "source": [
    "### Shape of dataset"
   ]
  },
  {
   "cell_type": "code",
   "execution_count": 23,
   "metadata": {},
   "outputs": [
    {
     "name": "stdout",
     "output_type": "stream",
     "text": [
      "Columns:  73\n",
      "Rows:  67051\n"
     ]
    }
   ],
   "source": [
    "print('Columns: ',df.shape[1])\n",
    "print('Rows: ',df.shape[0])"
   ]
  },
  {
   "cell_type": "markdown",
   "metadata": {},
   "source": [
    "### 2.2: Dataset information"
   ]
  },
  {
   "cell_type": "code",
   "execution_count": 27,
   "metadata": {},
   "outputs": [
    {
     "data": {
      "text/plain": [
       "array(['COMMUNITY AREA NAME', 'CENSUS BLOCK', 'BUILDING TYPE',\n",
       "       'BUILDING_SUBTYPE', 'KWH JANUARY 2010', 'KWH FEBRUARY 2010',\n",
       "       'KWH MARCH 2010', 'KWH APRIL 2010', 'KWH MAY 2010',\n",
       "       'KWH JUNE 2010', 'KWH JULY 2010', 'KWH AUGUST 2010',\n",
       "       'KWH SEPTEMBER 2010', 'KWH OCTOBER 2010', 'KWH NOVEMBER 2010',\n",
       "       'KWH DECEMBER 2010', 'TOTAL KWH', 'ELECTRICITY ACCOUNTS',\n",
       "       'ZERO KWH ACCOUNTS', 'THERM JANUARY 2010', 'THERM FEBRUARY 2010',\n",
       "       'THERM MARCH 2010', 'TERM APRIL 2010', 'THERM MAY 2010',\n",
       "       'THERM JUNE 2010', 'THERM JULY 2010', 'THERM AUGUST 2010',\n",
       "       'THERM SEPTEMBER 2010', 'THERM OCTOBER 2010',\n",
       "       'THERM NOVEMBER 2010', 'THERM DECEMBER 2010', 'TOTAL THERMS',\n",
       "       'GAS ACCOUNTS', 'KWH TOTAL SQFT', 'THERMS TOTAL SQFT',\n",
       "       'KWH MEAN 2010', 'KWH STANDARD DEVIATION 2010', 'KWH MINIMUM 2010',\n",
       "       'KWH 1ST QUARTILE 2010', 'KWH 2ND QUARTILE 2010',\n",
       "       'KWH 3RD QUARTILE 2010', 'KWH MAXIMUM 2010', 'KWH SQFT MEAN 2010',\n",
       "       'KWH SQFT STANDARD DEVIATION 2010', 'KWH SQFT MINIMUM 2010',\n",
       "       'KWH SQFT 1ST QUARTILE 2010', 'KWH SQFT 2ND QUARTILE 2010',\n",
       "       'KWH SQFT 3RD QUARTILE 2010', 'KWH SQFT MAXIMUM 2010',\n",
       "       'THERM MEAN 2010', 'THERM STANDARD DEVIATION 2010',\n",
       "       'THERM MINIMUM 2010', 'THERM 1ST QUARTILE 2010',\n",
       "       'THERM 2ND QUARTILE 2010', 'THERM 3RD QUARTILE 2010',\n",
       "       'THERM MAXIMUM 2010', 'THERMS SQFT MEAN 2010',\n",
       "       'THERMS SQFT STANDARD DEVIATION 2010', 'THERMS SQFT MINIMUM 2010',\n",
       "       'THERMS SQFT 1ST QUARTILE 2010', 'THERMS SQFT 2ND QUARTILE 2010',\n",
       "       'THERMS SQFT 3RD QUARTILE 2010', 'THERMS SQFT MAXIMUM 2010',\n",
       "       'TOTAL POPULATION', 'TOTAL UNITS', 'AVERAGE STORIES',\n",
       "       'AVERAGE BUILDING AGE', 'AVERAGE HOUSESIZE', 'OCCUPIED UNITS',\n",
       "       'OCCUPIED UNITS PERCENTAGE', 'RENTER-OCCUPIED HOUSING UNITS',\n",
       "       'RENTER-OCCUPIED HOUSING PERCENTAGE', 'OCCUPIED HOUSING UNITS'],\n",
       "      dtype=object)"
      ]
     },
     "execution_count": 27,
     "metadata": {},
     "output_type": "execute_result"
    }
   ],
   "source": [
    "df.columns.values"
   ]
  },
  {
   "cell_type": "markdown",
   "metadata": {},
   "source": [
    "### Dataset description\n",
    "Click <a href='data_description.md'>here</a> for data description"
   ]
  }
 ],
 "metadata": {
  "kernelspec": {
   "display_name": "Python 3",
   "language": "python",
   "name": "python3"
  },
  "language_info": {
   "codemirror_mode": {
    "name": "ipython",
    "version": 3
   },
   "file_extension": ".py",
   "mimetype": "text/x-python",
   "name": "python",
   "nbconvert_exporter": "python",
   "pygments_lexer": "ipython3",
   "version": "3.8.0"
  }
 },
 "nbformat": 4,
 "nbformat_minor": 2
}
