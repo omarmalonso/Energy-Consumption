{
 "cells": [
  {
   "cell_type": "markdown",
   "metadata": {},
   "source": [
    "# Exploratory Data Analysis: Energy Consumption For Chicago In 2010"
   ]
  },
  {
   "cell_type": "markdown",
   "metadata": {},
   "source": [
    "## Life cycle of machine learning project:\n",
    "1. Understanding the problem\n",
    "1. Data collection\n",
    "1. Data checks to perform \n",
    "1. Exploratory data analysis\n",
    "1. Data pre-preocessing\n",
    "1. Model Training\n",
    "1. Choose best model"
   ]
  },
  {
   "cell_type": "markdown",
   "metadata": {},
   "source": [
    "### 1: Understanding the problem\n",
    "The point of this project is to show how energy consumption is affected by variables such as time of the year, type of building, size of building, number of people, etc."
   ]
  },
  {
   "cell_type": "markdown",
   "metadata": {},
   "source": [
    "### 2: Data Collection\n",
    "Dataset <a href='https://data.cityofchicago.org/Environment-Sustainable-Development/Energy-Usage-2010/8yq3-m6wp/about_data'>source</a>\n"
   ]
  },
  {
   "cell_type": "markdown",
   "metadata": {},
   "source": [
    "### 2.1: Import data and required packages"
   ]
  },
  {
   "cell_type": "code",
   "execution_count": 1,
   "metadata": {},
   "outputs": [],
   "source": [
    "import pandas as pd\n",
    "import numpy as np\n",
    "import seaborn as sb\n",
    "import matplotlib.pyplot as plt\n",
    "%matplotlib inline\n",
    "import warnings\n",
    "warnings.filterwarnings('ignore')\n",
    "from sklearn.impute import SimpleImputer"
   ]
  },
  {
   "cell_type": "markdown",
   "metadata": {},
   "source": [
    "### Read and print 5 first rows of dataset"
   ]
  },
  {
   "cell_type": "code",
   "execution_count": 2,
   "metadata": {},
   "outputs": [
    {
     "data": {
      "text/html": [
       "<div>\n",
       "<style scoped>\n",
       "    .dataframe tbody tr th:only-of-type {\n",
       "        vertical-align: middle;\n",
       "    }\n",
       "\n",
       "    .dataframe tbody tr th {\n",
       "        vertical-align: top;\n",
       "    }\n",
       "\n",
       "    .dataframe thead th {\n",
       "        text-align: right;\n",
       "    }\n",
       "</style>\n",
       "<table border=\"1\" class=\"dataframe\">\n",
       "  <thead>\n",
       "    <tr style=\"text-align: right;\">\n",
       "      <th></th>\n",
       "      <th>COMMUNITY AREA NAME</th>\n",
       "      <th>CENSUS BLOCK</th>\n",
       "      <th>BUILDING TYPE</th>\n",
       "      <th>BUILDING_SUBTYPE</th>\n",
       "      <th>KWH JANUARY 2010</th>\n",
       "      <th>KWH FEBRUARY 2010</th>\n",
       "      <th>KWH MARCH 2010</th>\n",
       "      <th>KWH APRIL 2010</th>\n",
       "      <th>KWH MAY 2010</th>\n",
       "      <th>KWH JUNE 2010</th>\n",
       "      <th>...</th>\n",
       "      <th>TOTAL POPULATION</th>\n",
       "      <th>TOTAL UNITS</th>\n",
       "      <th>AVERAGE STORIES</th>\n",
       "      <th>AVERAGE BUILDING AGE</th>\n",
       "      <th>AVERAGE HOUSESIZE</th>\n",
       "      <th>OCCUPIED UNITS</th>\n",
       "      <th>OCCUPIED UNITS PERCENTAGE</th>\n",
       "      <th>RENTER-OCCUPIED HOUSING UNITS</th>\n",
       "      <th>RENTER-OCCUPIED HOUSING PERCENTAGE</th>\n",
       "      <th>OCCUPIED HOUSING UNITS</th>\n",
       "    </tr>\n",
       "  </thead>\n",
       "  <tbody>\n",
       "    <tr>\n",
       "      <th>0</th>\n",
       "      <td>Archer Heights</td>\n",
       "      <td>1.703157e+14</td>\n",
       "      <td>Residential</td>\n",
       "      <td>Multi &lt; 7</td>\n",
       "      <td>NaN</td>\n",
       "      <td>NaN</td>\n",
       "      <td>NaN</td>\n",
       "      <td>NaN</td>\n",
       "      <td>NaN</td>\n",
       "      <td>NaN</td>\n",
       "      <td>...</td>\n",
       "      <td>89.0</td>\n",
       "      <td>24.0</td>\n",
       "      <td>2.0</td>\n",
       "      <td>71.33</td>\n",
       "      <td>3.87</td>\n",
       "      <td>23.0</td>\n",
       "      <td>0.9582</td>\n",
       "      <td>9.0</td>\n",
       "      <td>0.3910</td>\n",
       "      <td>23.0</td>\n",
       "    </tr>\n",
       "    <tr>\n",
       "      <th>1</th>\n",
       "      <td>Ashburn</td>\n",
       "      <td>1.703170e+14</td>\n",
       "      <td>Residential</td>\n",
       "      <td>Multi 7+</td>\n",
       "      <td>7334.0</td>\n",
       "      <td>7741.0</td>\n",
       "      <td>4214.0</td>\n",
       "      <td>4284.0</td>\n",
       "      <td>2518.0</td>\n",
       "      <td>4273.0</td>\n",
       "      <td>...</td>\n",
       "      <td>112.0</td>\n",
       "      <td>67.0</td>\n",
       "      <td>2.0</td>\n",
       "      <td>41.00</td>\n",
       "      <td>1.81</td>\n",
       "      <td>62.0</td>\n",
       "      <td>0.9254</td>\n",
       "      <td>50.0</td>\n",
       "      <td>0.8059</td>\n",
       "      <td>62.0</td>\n",
       "    </tr>\n",
       "    <tr>\n",
       "      <th>2</th>\n",
       "      <td>Auburn Gresham</td>\n",
       "      <td>1.703171e+14</td>\n",
       "      <td>Commercial</td>\n",
       "      <td>Multi &lt; 7</td>\n",
       "      <td>NaN</td>\n",
       "      <td>NaN</td>\n",
       "      <td>NaN</td>\n",
       "      <td>NaN</td>\n",
       "      <td>NaN</td>\n",
       "      <td>NaN</td>\n",
       "      <td>...</td>\n",
       "      <td>102.0</td>\n",
       "      <td>48.0</td>\n",
       "      <td>3.0</td>\n",
       "      <td>86.00</td>\n",
       "      <td>3.00</td>\n",
       "      <td>34.0</td>\n",
       "      <td>0.7082</td>\n",
       "      <td>23.0</td>\n",
       "      <td>0.6759</td>\n",
       "      <td>34.0</td>\n",
       "    </tr>\n",
       "    <tr>\n",
       "      <th>3</th>\n",
       "      <td>Austin</td>\n",
       "      <td>1.703125e+14</td>\n",
       "      <td>Commercial</td>\n",
       "      <td>Multi &lt; 7</td>\n",
       "      <td>NaN</td>\n",
       "      <td>NaN</td>\n",
       "      <td>NaN</td>\n",
       "      <td>NaN</td>\n",
       "      <td>NaN</td>\n",
       "      <td>NaN</td>\n",
       "      <td>...</td>\n",
       "      <td>121.0</td>\n",
       "      <td>56.0</td>\n",
       "      <td>2.0</td>\n",
       "      <td>84.00</td>\n",
       "      <td>2.95</td>\n",
       "      <td>41.0</td>\n",
       "      <td>0.7321</td>\n",
       "      <td>32.0</td>\n",
       "      <td>0.7800</td>\n",
       "      <td>41.0</td>\n",
       "    </tr>\n",
       "    <tr>\n",
       "      <th>4</th>\n",
       "      <td>Austin</td>\n",
       "      <td>1.703125e+14</td>\n",
       "      <td>Commercial</td>\n",
       "      <td>Multi &lt; 7</td>\n",
       "      <td>NaN</td>\n",
       "      <td>NaN</td>\n",
       "      <td>NaN</td>\n",
       "      <td>NaN</td>\n",
       "      <td>NaN</td>\n",
       "      <td>NaN</td>\n",
       "      <td>...</td>\n",
       "      <td>62.0</td>\n",
       "      <td>23.0</td>\n",
       "      <td>2.0</td>\n",
       "      <td>85.00</td>\n",
       "      <td>3.26</td>\n",
       "      <td>19.0</td>\n",
       "      <td>0.8261</td>\n",
       "      <td>11.0</td>\n",
       "      <td>0.5790</td>\n",
       "      <td>19.0</td>\n",
       "    </tr>\n",
       "  </tbody>\n",
       "</table>\n",
       "<p>5 rows × 73 columns</p>\n",
       "</div>"
      ],
      "text/plain": [
       "  COMMUNITY AREA NAME  CENSUS BLOCK BUILDING TYPE BUILDING_SUBTYPE  \\\n",
       "0      Archer Heights  1.703157e+14   Residential        Multi < 7   \n",
       "1             Ashburn  1.703170e+14   Residential         Multi 7+   \n",
       "2      Auburn Gresham  1.703171e+14    Commercial        Multi < 7   \n",
       "3              Austin  1.703125e+14    Commercial        Multi < 7   \n",
       "4              Austin  1.703125e+14    Commercial        Multi < 7   \n",
       "\n",
       "   KWH JANUARY 2010  KWH FEBRUARY 2010  KWH MARCH 2010  KWH APRIL 2010  \\\n",
       "0               NaN                NaN             NaN             NaN   \n",
       "1            7334.0             7741.0          4214.0          4284.0   \n",
       "2               NaN                NaN             NaN             NaN   \n",
       "3               NaN                NaN             NaN             NaN   \n",
       "4               NaN                NaN             NaN             NaN   \n",
       "\n",
       "   KWH MAY 2010  KWH JUNE 2010  ...  TOTAL POPULATION  TOTAL UNITS  \\\n",
       "0           NaN            NaN  ...              89.0         24.0   \n",
       "1        2518.0         4273.0  ...             112.0         67.0   \n",
       "2           NaN            NaN  ...             102.0         48.0   \n",
       "3           NaN            NaN  ...             121.0         56.0   \n",
       "4           NaN            NaN  ...              62.0         23.0   \n",
       "\n",
       "   AVERAGE STORIES  AVERAGE BUILDING AGE  AVERAGE HOUSESIZE  OCCUPIED UNITS  \\\n",
       "0              2.0                 71.33               3.87            23.0   \n",
       "1              2.0                 41.00               1.81            62.0   \n",
       "2              3.0                 86.00               3.00            34.0   \n",
       "3              2.0                 84.00               2.95            41.0   \n",
       "4              2.0                 85.00               3.26            19.0   \n",
       "\n",
       "   OCCUPIED UNITS PERCENTAGE RENTER-OCCUPIED HOUSING UNITS  \\\n",
       "0                     0.9582                           9.0   \n",
       "1                     0.9254                          50.0   \n",
       "2                     0.7082                          23.0   \n",
       "3                     0.7321                          32.0   \n",
       "4                     0.8261                          11.0   \n",
       "\n",
       "   RENTER-OCCUPIED HOUSING PERCENTAGE  OCCUPIED HOUSING UNITS  \n",
       "0                              0.3910                    23.0  \n",
       "1                              0.8059                    62.0  \n",
       "2                              0.6759                    34.0  \n",
       "3                              0.7800                    41.0  \n",
       "4                              0.5790                    19.0  \n",
       "\n",
       "[5 rows x 73 columns]"
      ]
     },
     "execution_count": 2,
     "metadata": {},
     "output_type": "execute_result"
    }
   ],
   "source": [
    "df = pd.read_csv('data/chicago_energy_consumption.csv')\n",
    "df.head()"
   ]
  },
  {
   "cell_type": "markdown",
   "metadata": {},
   "source": [
    "### Shape of dataset"
   ]
  },
  {
   "cell_type": "code",
   "execution_count": 3,
   "metadata": {},
   "outputs": [
    {
     "name": "stdout",
     "output_type": "stream",
     "text": [
      "Columns:  73\n",
      "Rows:  67051\n"
     ]
    }
   ],
   "source": [
    "print('Columns: ',df.shape[1])\n",
    "print('Rows: ',df.shape[0])"
   ]
  },
  {
   "cell_type": "markdown",
   "metadata": {},
   "source": [
    "### 2.2: Dataset information"
   ]
  },
  {
   "cell_type": "markdown",
   "metadata": {},
   "source": [
    "### Dataset description\n",
    "For an in-depth look at the dataset click <a href='data_description.md'> here</a>"
   ]
  },
  {
   "cell_type": "markdown",
   "metadata": {},
   "source": [
    "### List of all columns"
   ]
  },
  {
   "cell_type": "code",
   "execution_count": 4,
   "metadata": {},
   "outputs": [
    {
     "data": {
      "text/plain": [
       "array(['COMMUNITY AREA NAME', 'CENSUS BLOCK', 'BUILDING TYPE',\n",
       "       'BUILDING_SUBTYPE', 'KWH JANUARY 2010', 'KWH FEBRUARY 2010',\n",
       "       'KWH MARCH 2010', 'KWH APRIL 2010', 'KWH MAY 2010',\n",
       "       'KWH JUNE 2010', 'KWH JULY 2010', 'KWH AUGUST 2010',\n",
       "       'KWH SEPTEMBER 2010', 'KWH OCTOBER 2010', 'KWH NOVEMBER 2010',\n",
       "       'KWH DECEMBER 2010', 'TOTAL KWH', 'ELECTRICITY ACCOUNTS',\n",
       "       'ZERO KWH ACCOUNTS', 'THERM JANUARY 2010', 'THERM FEBRUARY 2010',\n",
       "       'THERM MARCH 2010', 'TERM APRIL 2010', 'THERM MAY 2010',\n",
       "       'THERM JUNE 2010', 'THERM JULY 2010', 'THERM AUGUST 2010',\n",
       "       'THERM SEPTEMBER 2010', 'THERM OCTOBER 2010',\n",
       "       'THERM NOVEMBER 2010', 'THERM DECEMBER 2010', 'TOTAL THERMS',\n",
       "       'GAS ACCOUNTS', 'KWH TOTAL SQFT', 'THERMS TOTAL SQFT',\n",
       "       'KWH MEAN 2010', 'KWH STANDARD DEVIATION 2010', 'KWH MINIMUM 2010',\n",
       "       'KWH 1ST QUARTILE 2010', 'KWH 2ND QUARTILE 2010',\n",
       "       'KWH 3RD QUARTILE 2010', 'KWH MAXIMUM 2010', 'KWH SQFT MEAN 2010',\n",
       "       'KWH SQFT STANDARD DEVIATION 2010', 'KWH SQFT MINIMUM 2010',\n",
       "       'KWH SQFT 1ST QUARTILE 2010', 'KWH SQFT 2ND QUARTILE 2010',\n",
       "       'KWH SQFT 3RD QUARTILE 2010', 'KWH SQFT MAXIMUM 2010',\n",
       "       'THERM MEAN 2010', 'THERM STANDARD DEVIATION 2010',\n",
       "       'THERM MINIMUM 2010', 'THERM 1ST QUARTILE 2010',\n",
       "       'THERM 2ND QUARTILE 2010', 'THERM 3RD QUARTILE 2010',\n",
       "       'THERM MAXIMUM 2010', 'THERMS SQFT MEAN 2010',\n",
       "       'THERMS SQFT STANDARD DEVIATION 2010', 'THERMS SQFT MINIMUM 2010',\n",
       "       'THERMS SQFT 1ST QUARTILE 2010', 'THERMS SQFT 2ND QUARTILE 2010',\n",
       "       'THERMS SQFT 3RD QUARTILE 2010', 'THERMS SQFT MAXIMUM 2010',\n",
       "       'TOTAL POPULATION', 'TOTAL UNITS', 'AVERAGE STORIES',\n",
       "       'AVERAGE BUILDING AGE', 'AVERAGE HOUSESIZE', 'OCCUPIED UNITS',\n",
       "       'OCCUPIED UNITS PERCENTAGE', 'RENTER-OCCUPIED HOUSING UNITS',\n",
       "       'RENTER-OCCUPIED HOUSING PERCENTAGE', 'OCCUPIED HOUSING UNITS'],\n",
       "      dtype=object)"
      ]
     },
     "execution_count": 4,
     "metadata": {},
     "output_type": "execute_result"
    }
   ],
   "source": [
    "df.columns.values"
   ]
  },
  {
   "cell_type": "markdown",
   "metadata": {},
   "source": [
    "### 3: Data Checks to Perform\n",
    "- Missing values\n",
    "- Duplicates\n",
    "- Data types\n",
    "- Number of unique values of each column\n",
    "- Dataset statistics \n",
    "- Different categories present in categorical columns"
   ]
  },
  {
   "cell_type": "markdown",
   "metadata": {},
   "source": [
    "#### Missing Values\n",
    " Finding missing values\n"
   ]
  },
  {
   "cell_type": "code",
   "execution_count": 5,
   "metadata": {},
   "outputs": [
    {
     "name": "stdout",
     "output_type": "stream",
     "text": [
      "COMMUNITY AREA NAME                        0\n",
      "CENSUS BLOCK                              77\n",
      "BUILDING TYPE                             77\n",
      "BUILDING_SUBTYPE                          77\n",
      "KWH JANUARY 2010                         871\n",
      "KWH FEBRUARY 2010                        871\n",
      "KWH MARCH 2010                           871\n",
      "KWH APRIL 2010                           871\n",
      "KWH MAY 2010                             871\n",
      "KWH JUNE 2010                            871\n",
      "KWH JULY 2010                            871\n",
      "KWH AUGUST 2010                          871\n",
      "KWH SEPTEMBER 2010                       871\n",
      "KWH OCTOBER 2010                         871\n",
      "KWH NOVEMBER 2010                        871\n",
      "KWH DECEMBER 2010                        871\n",
      "TOTAL KWH                                871\n",
      "ELECTRICITY ACCOUNTS                     871\n",
      "ZERO KWH ACCOUNTS                          0\n",
      "THERM JANUARY 2010                      2230\n",
      "THERM FEBRUARY 2010                     4232\n",
      "THERM MARCH 2010                        1482\n",
      "TERM APRIL 2010                         1575\n",
      "THERM MAY 2010                          1857\n",
      "THERM JUNE 2010                         1767\n",
      "THERM JULY 2010                         1820\n",
      "THERM AUGUST 2010                       1908\n",
      "THERM SEPTEMBER 2010                    2282\n",
      "THERM OCTOBER 2010                      1722\n",
      "THERM NOVEMBER 2010                     1559\n",
      "THERM DECEMBER 2010                     1544\n",
      "TOTAL THERMS                            1296\n",
      "GAS ACCOUNTS                            1296\n",
      "KWH TOTAL SQFT                          1150\n",
      "THERMS TOTAL SQFT                       1673\n",
      "KWH MEAN 2010                            871\n",
      "KWH STANDARD DEVIATION 2010             9956\n",
      "KWH MINIMUM 2010                         871\n",
      "KWH 1ST QUARTILE 2010                    871\n",
      "KWH 2ND QUARTILE 2010                    871\n",
      "KWH 3RD QUARTILE 2010                    871\n",
      "KWH MAXIMUM 2010                         871\n",
      "KWH SQFT MEAN 2010                      1150\n",
      "KWH SQFT STANDARD DEVIATION 2010       15385\n",
      "KWH SQFT MINIMUM 2010                   1150\n",
      "KWH SQFT 1ST QUARTILE 2010              1150\n",
      "KWH SQFT 2ND QUARTILE 2010              1150\n",
      "KWH SQFT 3RD QUARTILE 2010              1150\n",
      "KWH SQFT MAXIMUM 2010                   1150\n",
      "THERM MEAN 2010                         1296\n",
      "THERM STANDARD DEVIATION 2010          10230\n",
      "THERM MINIMUM 2010                      1296\n",
      "THERM 1ST QUARTILE 2010                 1296\n",
      "THERM 2ND QUARTILE 2010                 1296\n",
      "THERM 3RD QUARTILE 2010                 1296\n",
      "THERM MAXIMUM 2010                      1296\n",
      "THERMS SQFT MEAN 2010                   1673\n",
      "THERMS SQFT STANDARD DEVIATION 2010    15684\n",
      "THERMS SQFT MINIMUM 2010                1673\n",
      "THERMS SQFT 1ST QUARTILE 2010           1673\n",
      "THERMS SQFT 2ND QUARTILE 2010           1673\n",
      "THERMS SQFT 3RD QUARTILE 2010           1673\n",
      "THERMS SQFT MAXIMUM 2010                1673\n",
      "TOTAL POPULATION                          14\n",
      "TOTAL UNITS                               14\n",
      "AVERAGE STORIES                            0\n",
      "AVERAGE BUILDING AGE                       0\n",
      "AVERAGE HOUSESIZE                         14\n",
      "OCCUPIED UNITS                            14\n",
      "OCCUPIED UNITS PERCENTAGE               2445\n",
      "RENTER-OCCUPIED HOUSING UNITS             14\n",
      "RENTER-OCCUPIED HOUSING PERCENTAGE      2618\n",
      "OCCUPIED HOUSING UNITS                    14\n",
      "dtype: int64\n",
      "Total missing values:  128160\n"
     ]
    }
   ],
   "source": [
    "with pd.option_context('display.max_rows', None, 'display.max_columns', None):  # more options can be specified also\n",
    "    print(df.isnull().sum())\n",
    "    print('Total missing values: ', df.isnull().sum().sum())"
   ]
  },
  {
   "cell_type": "markdown",
   "metadata": {},
   "source": [
    "#### Missing Values\n",
    "Deleting 871 rows where electric data is not available."
   ]
  },
  {
   "cell_type": "code",
   "execution_count": 6,
   "metadata": {},
   "outputs": [
    {
     "name": "stdout",
     "output_type": "stream",
     "text": [
      "Total missing values:  100479\n"
     ]
    }
   ],
   "source": [
    "df = df.dropna(subset=['TOTAL KWH'])\n",
    "print('Total missing values: ', df.isnull().sum().sum())"
   ]
  },
  {
   "cell_type": "markdown",
   "metadata": {},
   "source": [
    "#### Missing Values\n",
    "Using imputation to andle missing values. Numerical values will be handled with the average in each column. Categorical features will be handled with the mode of each column. "
   ]
  },
  {
   "cell_type": "code",
   "execution_count": 7,
   "metadata": {},
   "outputs": [
    {
     "data": {
      "text/plain": [
       "(['COMMUNITY AREA NAME',\n",
       "  'BUILDING TYPE',\n",
       "  'BUILDING_SUBTYPE',\n",
       "  'ELECTRICITY ACCOUNTS',\n",
       "  'GAS ACCOUNTS'],\n",
       " ['CENSUS BLOCK',\n",
       "  'KWH JANUARY 2010',\n",
       "  'KWH FEBRUARY 2010',\n",
       "  'KWH MARCH 2010',\n",
       "  'KWH APRIL 2010',\n",
       "  'KWH MAY 2010',\n",
       "  'KWH JUNE 2010',\n",
       "  'KWH JULY 2010',\n",
       "  'KWH AUGUST 2010',\n",
       "  'KWH SEPTEMBER 2010',\n",
       "  'KWH OCTOBER 2010',\n",
       "  'KWH NOVEMBER 2010',\n",
       "  'KWH DECEMBER 2010',\n",
       "  'TOTAL KWH',\n",
       "  'ZERO KWH ACCOUNTS',\n",
       "  'THERM JANUARY 2010',\n",
       "  'THERM FEBRUARY 2010',\n",
       "  'THERM MARCH 2010',\n",
       "  'TERM APRIL 2010',\n",
       "  'THERM MAY 2010',\n",
       "  'THERM JUNE 2010',\n",
       "  'THERM JULY 2010',\n",
       "  'THERM AUGUST 2010',\n",
       "  'THERM SEPTEMBER 2010',\n",
       "  'THERM OCTOBER 2010',\n",
       "  'THERM NOVEMBER 2010',\n",
       "  'THERM DECEMBER 2010',\n",
       "  'TOTAL THERMS',\n",
       "  'KWH TOTAL SQFT',\n",
       "  'THERMS TOTAL SQFT',\n",
       "  'KWH MEAN 2010',\n",
       "  'KWH STANDARD DEVIATION 2010',\n",
       "  'KWH MINIMUM 2010',\n",
       "  'KWH 1ST QUARTILE 2010',\n",
       "  'KWH 2ND QUARTILE 2010',\n",
       "  'KWH 3RD QUARTILE 2010',\n",
       "  'KWH MAXIMUM 2010',\n",
       "  'KWH SQFT MEAN 2010',\n",
       "  'KWH SQFT STANDARD DEVIATION 2010',\n",
       "  'KWH SQFT MINIMUM 2010',\n",
       "  'KWH SQFT 1ST QUARTILE 2010',\n",
       "  'KWH SQFT 2ND QUARTILE 2010',\n",
       "  'KWH SQFT 3RD QUARTILE 2010',\n",
       "  'KWH SQFT MAXIMUM 2010',\n",
       "  'THERM MEAN 2010',\n",
       "  'THERM STANDARD DEVIATION 2010',\n",
       "  'THERM MINIMUM 2010',\n",
       "  'THERM 1ST QUARTILE 2010',\n",
       "  'THERM 2ND QUARTILE 2010',\n",
       "  'THERM 3RD QUARTILE 2010',\n",
       "  'THERM MAXIMUM 2010',\n",
       "  'THERMS SQFT MEAN 2010',\n",
       "  'THERMS SQFT STANDARD DEVIATION 2010',\n",
       "  'THERMS SQFT MINIMUM 2010',\n",
       "  'THERMS SQFT 1ST QUARTILE 2010',\n",
       "  'THERMS SQFT 2ND QUARTILE 2010',\n",
       "  'THERMS SQFT 3RD QUARTILE 2010',\n",
       "  'THERMS SQFT MAXIMUM 2010',\n",
       "  'TOTAL POPULATION',\n",
       "  'TOTAL UNITS',\n",
       "  'AVERAGE STORIES',\n",
       "  'AVERAGE BUILDING AGE',\n",
       "  'AVERAGE HOUSESIZE',\n",
       "  'OCCUPIED UNITS',\n",
       "  'OCCUPIED UNITS PERCENTAGE',\n",
       "  'RENTER-OCCUPIED HOUSING UNITS',\n",
       "  'RENTER-OCCUPIED HOUSING PERCENTAGE',\n",
       "  'OCCUPIED HOUSING UNITS'])"
      ]
     },
     "execution_count": 7,
     "metadata": {},
     "output_type": "execute_result"
    }
   ],
   "source": [
    "# Creating 2 lists for categrical and numerical columns\n",
    "cat_col = [i for i in df.columns.values if df[i].dtypes=='O']\n",
    "num_col = [i for i in df.columns.values if df[i].dtypes=='float64' or df[i].dtypes=='int64']\n",
    "cat_col, num_col"
   ]
  },
  {
   "cell_type": "markdown",
   "metadata": {},
   "source": [
    "'CENCUS BLOCK' should be a categorical data type because it is describing an area, similar to how zipcodes work. Will simply convert this to object data type.\n",
    "\n",
    "'ELECTRICITY ACCOUNTS' and 'GAS ACCOUNTS' data types are returning as categorical because of the value \"Less than 4\". For simplcity, will replace \"Less than 4\" with 3 and then convert to float64. Will also add new boolean column to indicate which rows ave less than 4 accounts\n"
   ]
  },
  {
   "cell_type": "code",
   "execution_count": 8,
   "metadata": {},
   "outputs": [],
   "source": [
    "df['GAS ACCOUNTS'].replace('Less than 4', 3, inplace=True)\n",
    "df['ELECTRICITY ACCOUNTS'].replace('Less than 4', 3, inplace=True)\n",
    "\n",
    "# Correcting to appropriate data types\n",
    "df = df.astype({'CENSUS BLOCK':object,'ELECTRICITY ACCOUNTS': 'float64', 'GAS ACCOUNTS': 'float64' })\n",
    " \n",
    "df['GAS ACCOUNTS < 4']= np.where(df['GAS ACCOUNTS'] < 4, True, False)\n",
    "df['ELECTRIC ACCOUNTS < 4']= np.where(df['ELECTRICITY ACCOUNTS'] < 4, True, False)"
   ]
  },
  {
   "cell_type": "code",
   "execution_count": 9,
   "metadata": {},
   "outputs": [
    {
     "data": {
      "text/plain": [
       "(['COMMUNITY AREA NAME', 'CENSUS BLOCK', 'BUILDING TYPE', 'BUILDING_SUBTYPE'],\n",
       " ['KWH JANUARY 2010',\n",
       "  'KWH FEBRUARY 2010',\n",
       "  'KWH MARCH 2010',\n",
       "  'KWH APRIL 2010',\n",
       "  'KWH MAY 2010',\n",
       "  'KWH JUNE 2010',\n",
       "  'KWH JULY 2010',\n",
       "  'KWH AUGUST 2010',\n",
       "  'KWH SEPTEMBER 2010',\n",
       "  'KWH OCTOBER 2010',\n",
       "  'KWH NOVEMBER 2010',\n",
       "  'KWH DECEMBER 2010',\n",
       "  'TOTAL KWH',\n",
       "  'ELECTRICITY ACCOUNTS',\n",
       "  'ZERO KWH ACCOUNTS',\n",
       "  'THERM JANUARY 2010',\n",
       "  'THERM FEBRUARY 2010',\n",
       "  'THERM MARCH 2010',\n",
       "  'TERM APRIL 2010',\n",
       "  'THERM MAY 2010',\n",
       "  'THERM JUNE 2010',\n",
       "  'THERM JULY 2010',\n",
       "  'THERM AUGUST 2010',\n",
       "  'THERM SEPTEMBER 2010',\n",
       "  'THERM OCTOBER 2010',\n",
       "  'THERM NOVEMBER 2010',\n",
       "  'THERM DECEMBER 2010',\n",
       "  'TOTAL THERMS',\n",
       "  'GAS ACCOUNTS',\n",
       "  'KWH TOTAL SQFT',\n",
       "  'THERMS TOTAL SQFT',\n",
       "  'KWH MEAN 2010',\n",
       "  'KWH STANDARD DEVIATION 2010',\n",
       "  'KWH MINIMUM 2010',\n",
       "  'KWH 1ST QUARTILE 2010',\n",
       "  'KWH 2ND QUARTILE 2010',\n",
       "  'KWH 3RD QUARTILE 2010',\n",
       "  'KWH MAXIMUM 2010',\n",
       "  'KWH SQFT MEAN 2010',\n",
       "  'KWH SQFT STANDARD DEVIATION 2010',\n",
       "  'KWH SQFT MINIMUM 2010',\n",
       "  'KWH SQFT 1ST QUARTILE 2010',\n",
       "  'KWH SQFT 2ND QUARTILE 2010',\n",
       "  'KWH SQFT 3RD QUARTILE 2010',\n",
       "  'KWH SQFT MAXIMUM 2010',\n",
       "  'THERM MEAN 2010',\n",
       "  'THERM STANDARD DEVIATION 2010',\n",
       "  'THERM MINIMUM 2010',\n",
       "  'THERM 1ST QUARTILE 2010',\n",
       "  'THERM 2ND QUARTILE 2010',\n",
       "  'THERM 3RD QUARTILE 2010',\n",
       "  'THERM MAXIMUM 2010',\n",
       "  'THERMS SQFT MEAN 2010',\n",
       "  'THERMS SQFT STANDARD DEVIATION 2010',\n",
       "  'THERMS SQFT MINIMUM 2010',\n",
       "  'THERMS SQFT 1ST QUARTILE 2010',\n",
       "  'THERMS SQFT 2ND QUARTILE 2010',\n",
       "  'THERMS SQFT 3RD QUARTILE 2010',\n",
       "  'THERMS SQFT MAXIMUM 2010',\n",
       "  'TOTAL POPULATION',\n",
       "  'TOTAL UNITS',\n",
       "  'AVERAGE STORIES',\n",
       "  'AVERAGE BUILDING AGE',\n",
       "  'AVERAGE HOUSESIZE',\n",
       "  'OCCUPIED UNITS',\n",
       "  'OCCUPIED UNITS PERCENTAGE',\n",
       "  'RENTER-OCCUPIED HOUSING UNITS',\n",
       "  'RENTER-OCCUPIED HOUSING PERCENTAGE',\n",
       "  'OCCUPIED HOUSING UNITS'],\n",
       " ['GAS ACCOUNTS < 4', 'ELECTRIC ACCOUNTS < 4'])"
      ]
     },
     "execution_count": 9,
     "metadata": {},
     "output_type": "execute_result"
    }
   ],
   "source": [
    "# Correcting lists\n",
    "cat_col = [i for i in df.columns.values if df[i].dtypes=='O']\n",
    "num_col = [i for i in df.columns.values if df[i].dtypes=='float64' or df[i].dtypes=='int64']\n",
    "bool_col = [i for i in df.columns.values if df[i].dtypes=='bool']\n",
    "cat_col, num_col, bool_col"
   ]
  },
  {
   "cell_type": "code",
   "execution_count": 10,
   "metadata": {},
   "outputs": [
    {
     "name": "stdout",
     "output_type": "stream",
     "text": [
      "Total missing values:  231\n"
     ]
    }
   ],
   "source": [
    "for col in range(len(num_col)):\n",
    "    imputer = SimpleImputer(strategy='mean')\n",
    "    df[num_col[col]] = imputer.fit_transform(df[num_col[col]].values.reshape(-1,1))\n",
    "print('Total missing values: ', df.isnull().sum().sum())"
   ]
  },
  {
   "cell_type": "code",
   "execution_count": 13,
   "metadata": {},
   "outputs": [
    {
     "ename": "InvalidParameterError",
     "evalue": "The 'strategy' parameter of SimpleImputer must be a str among {'constant', 'mean', 'most_frequent', 'median'}. Got 'mode' instead.",
     "output_type": "error",
     "traceback": [
      "\u001b[1;31m---------------------------------------------------------------------------\u001b[0m",
      "\u001b[1;31mInvalidParameterError\u001b[0m                     Traceback (most recent call last)",
      "Cell \u001b[1;32mIn[13], line 3\u001b[0m\n\u001b[0;32m      1\u001b[0m \u001b[38;5;28;01mfor\u001b[39;00m col \u001b[38;5;129;01min\u001b[39;00m \u001b[38;5;28mrange\u001b[39m(\u001b[38;5;28mlen\u001b[39m(cat_col)):\n\u001b[0;32m      2\u001b[0m     imputer \u001b[38;5;241m=\u001b[39m SimpleImputer(strategy\u001b[38;5;241m=\u001b[39m\u001b[38;5;124m'\u001b[39m\u001b[38;5;124mmode\u001b[39m\u001b[38;5;124m'\u001b[39m)\n\u001b[1;32m----> 3\u001b[0m     df[cat_col[col]] \u001b[38;5;241m=\u001b[39m \u001b[43mimputer\u001b[49m\u001b[38;5;241;43m.\u001b[39;49m\u001b[43mfit_transform\u001b[49m\u001b[43m(\u001b[49m\u001b[43mdf\u001b[49m\u001b[43m[\u001b[49m\u001b[43mcat_col\u001b[49m\u001b[43m[\u001b[49m\u001b[43mcol\u001b[49m\u001b[43m]\u001b[49m\u001b[43m]\u001b[49m\u001b[38;5;241;43m.\u001b[39;49m\u001b[43mvalues\u001b[49m\u001b[38;5;241;43m.\u001b[39;49m\u001b[43mreshape\u001b[49m\u001b[43m(\u001b[49m\u001b[38;5;241;43m-\u001b[39;49m\u001b[38;5;241;43m1\u001b[39;49m\u001b[43m,\u001b[49m\u001b[38;5;241;43m1\u001b[39;49m\u001b[43m)\u001b[49m\u001b[43m)\u001b[49m\n\u001b[0;32m      4\u001b[0m \u001b[38;5;28mprint\u001b[39m(\u001b[38;5;124m'\u001b[39m\u001b[38;5;124mTotal missing values: \u001b[39m\u001b[38;5;124m'\u001b[39m, df\u001b[38;5;241m.\u001b[39misnull()\u001b[38;5;241m.\u001b[39msum()\u001b[38;5;241m.\u001b[39msum())\n",
      "File \u001b[1;32mc:\\Users\\omarm\\Documents\\Repositories\\Energy_Consumption-Analysis\\env\\lib\\site-packages\\sklearn\\utils\\_set_output.py:157\u001b[0m, in \u001b[0;36m_wrap_method_output.<locals>.wrapped\u001b[1;34m(self, X, *args, **kwargs)\u001b[0m\n\u001b[0;32m    155\u001b[0m \u001b[38;5;129m@wraps\u001b[39m(f)\n\u001b[0;32m    156\u001b[0m \u001b[38;5;28;01mdef\u001b[39;00m \u001b[38;5;21mwrapped\u001b[39m(\u001b[38;5;28mself\u001b[39m, X, \u001b[38;5;241m*\u001b[39margs, \u001b[38;5;241m*\u001b[39m\u001b[38;5;241m*\u001b[39mkwargs):\n\u001b[1;32m--> 157\u001b[0m     data_to_wrap \u001b[38;5;241m=\u001b[39m \u001b[43mf\u001b[49m\u001b[43m(\u001b[49m\u001b[38;5;28;43mself\u001b[39;49m\u001b[43m,\u001b[49m\u001b[43m \u001b[49m\u001b[43mX\u001b[49m\u001b[43m,\u001b[49m\u001b[43m \u001b[49m\u001b[38;5;241;43m*\u001b[39;49m\u001b[43margs\u001b[49m\u001b[43m,\u001b[49m\u001b[43m \u001b[49m\u001b[38;5;241;43m*\u001b[39;49m\u001b[38;5;241;43m*\u001b[39;49m\u001b[43mkwargs\u001b[49m\u001b[43m)\u001b[49m\n\u001b[0;32m    158\u001b[0m     \u001b[38;5;28;01mif\u001b[39;00m \u001b[38;5;28misinstance\u001b[39m(data_to_wrap, \u001b[38;5;28mtuple\u001b[39m):\n\u001b[0;32m    159\u001b[0m         \u001b[38;5;66;03m# only wrap the first output for cross decomposition\u001b[39;00m\n\u001b[0;32m    160\u001b[0m         return_tuple \u001b[38;5;241m=\u001b[39m (\n\u001b[0;32m    161\u001b[0m             _wrap_data_with_container(method, data_to_wrap[\u001b[38;5;241m0\u001b[39m], X, \u001b[38;5;28mself\u001b[39m),\n\u001b[0;32m    162\u001b[0m             \u001b[38;5;241m*\u001b[39mdata_to_wrap[\u001b[38;5;241m1\u001b[39m:],\n\u001b[0;32m    163\u001b[0m         )\n",
      "File \u001b[1;32mc:\\Users\\omarm\\Documents\\Repositories\\Energy_Consumption-Analysis\\env\\lib\\site-packages\\sklearn\\base.py:916\u001b[0m, in \u001b[0;36mTransformerMixin.fit_transform\u001b[1;34m(self, X, y, **fit_params)\u001b[0m\n\u001b[0;32m    912\u001b[0m \u001b[38;5;66;03m# non-optimized default implementation; override when a better\u001b[39;00m\n\u001b[0;32m    913\u001b[0m \u001b[38;5;66;03m# method is possible for a given clustering algorithm\u001b[39;00m\n\u001b[0;32m    914\u001b[0m \u001b[38;5;28;01mif\u001b[39;00m y \u001b[38;5;129;01mis\u001b[39;00m \u001b[38;5;28;01mNone\u001b[39;00m:\n\u001b[0;32m    915\u001b[0m     \u001b[38;5;66;03m# fit method of arity 1 (unsupervised transformation)\u001b[39;00m\n\u001b[1;32m--> 916\u001b[0m     \u001b[38;5;28;01mreturn\u001b[39;00m \u001b[38;5;28;43mself\u001b[39;49m\u001b[38;5;241;43m.\u001b[39;49m\u001b[43mfit\u001b[49m\u001b[43m(\u001b[49m\u001b[43mX\u001b[49m\u001b[43m,\u001b[49m\u001b[43m \u001b[49m\u001b[38;5;241;43m*\u001b[39;49m\u001b[38;5;241;43m*\u001b[39;49m\u001b[43mfit_params\u001b[49m\u001b[43m)\u001b[49m\u001b[38;5;241m.\u001b[39mtransform(X)\n\u001b[0;32m    917\u001b[0m \u001b[38;5;28;01melse\u001b[39;00m:\n\u001b[0;32m    918\u001b[0m     \u001b[38;5;66;03m# fit method of arity 2 (supervised transformation)\u001b[39;00m\n\u001b[0;32m    919\u001b[0m     \u001b[38;5;28;01mreturn\u001b[39;00m \u001b[38;5;28mself\u001b[39m\u001b[38;5;241m.\u001b[39mfit(X, y, \u001b[38;5;241m*\u001b[39m\u001b[38;5;241m*\u001b[39mfit_params)\u001b[38;5;241m.\u001b[39mtransform(X)\n",
      "File \u001b[1;32mc:\\Users\\omarm\\Documents\\Repositories\\Energy_Consumption-Analysis\\env\\lib\\site-packages\\sklearn\\base.py:1145\u001b[0m, in \u001b[0;36m_fit_context.<locals>.decorator.<locals>.wrapper\u001b[1;34m(estimator, *args, **kwargs)\u001b[0m\n\u001b[0;32m   1140\u001b[0m partial_fit_and_fitted \u001b[38;5;241m=\u001b[39m (\n\u001b[0;32m   1141\u001b[0m     fit_method\u001b[38;5;241m.\u001b[39m\u001b[38;5;18m__name__\u001b[39m \u001b[38;5;241m==\u001b[39m \u001b[38;5;124m\"\u001b[39m\u001b[38;5;124mpartial_fit\u001b[39m\u001b[38;5;124m\"\u001b[39m \u001b[38;5;129;01mand\u001b[39;00m _is_fitted(estimator)\n\u001b[0;32m   1142\u001b[0m )\n\u001b[0;32m   1144\u001b[0m \u001b[38;5;28;01mif\u001b[39;00m \u001b[38;5;129;01mnot\u001b[39;00m global_skip_validation \u001b[38;5;129;01mand\u001b[39;00m \u001b[38;5;129;01mnot\u001b[39;00m partial_fit_and_fitted:\n\u001b[1;32m-> 1145\u001b[0m     \u001b[43mestimator\u001b[49m\u001b[38;5;241;43m.\u001b[39;49m\u001b[43m_validate_params\u001b[49m\u001b[43m(\u001b[49m\u001b[43m)\u001b[49m\n\u001b[0;32m   1147\u001b[0m \u001b[38;5;28;01mwith\u001b[39;00m config_context(\n\u001b[0;32m   1148\u001b[0m     skip_parameter_validation\u001b[38;5;241m=\u001b[39m(\n\u001b[0;32m   1149\u001b[0m         prefer_skip_nested_validation \u001b[38;5;129;01mor\u001b[39;00m global_skip_validation\n\u001b[0;32m   1150\u001b[0m     )\n\u001b[0;32m   1151\u001b[0m ):\n\u001b[0;32m   1152\u001b[0m     \u001b[38;5;28;01mreturn\u001b[39;00m fit_method(estimator, \u001b[38;5;241m*\u001b[39margs, \u001b[38;5;241m*\u001b[39m\u001b[38;5;241m*\u001b[39mkwargs)\n",
      "File \u001b[1;32mc:\\Users\\omarm\\Documents\\Repositories\\Energy_Consumption-Analysis\\env\\lib\\site-packages\\sklearn\\base.py:638\u001b[0m, in \u001b[0;36mBaseEstimator._validate_params\u001b[1;34m(self)\u001b[0m\n\u001b[0;32m    630\u001b[0m \u001b[38;5;28;01mdef\u001b[39;00m \u001b[38;5;21m_validate_params\u001b[39m(\u001b[38;5;28mself\u001b[39m):\n\u001b[0;32m    631\u001b[0m \u001b[38;5;250m    \u001b[39m\u001b[38;5;124;03m\"\"\"Validate types and values of constructor parameters\u001b[39;00m\n\u001b[0;32m    632\u001b[0m \n\u001b[0;32m    633\u001b[0m \u001b[38;5;124;03m    The expected type and values must be defined in the `_parameter_constraints`\u001b[39;00m\n\u001b[1;32m   (...)\u001b[0m\n\u001b[0;32m    636\u001b[0m \u001b[38;5;124;03m    accepted constraints.\u001b[39;00m\n\u001b[0;32m    637\u001b[0m \u001b[38;5;124;03m    \"\"\"\u001b[39;00m\n\u001b[1;32m--> 638\u001b[0m     \u001b[43mvalidate_parameter_constraints\u001b[49m\u001b[43m(\u001b[49m\n\u001b[0;32m    639\u001b[0m \u001b[43m        \u001b[49m\u001b[38;5;28;43mself\u001b[39;49m\u001b[38;5;241;43m.\u001b[39;49m\u001b[43m_parameter_constraints\u001b[49m\u001b[43m,\u001b[49m\n\u001b[0;32m    640\u001b[0m \u001b[43m        \u001b[49m\u001b[38;5;28;43mself\u001b[39;49m\u001b[38;5;241;43m.\u001b[39;49m\u001b[43mget_params\u001b[49m\u001b[43m(\u001b[49m\u001b[43mdeep\u001b[49m\u001b[38;5;241;43m=\u001b[39;49m\u001b[38;5;28;43;01mFalse\u001b[39;49;00m\u001b[43m)\u001b[49m\u001b[43m,\u001b[49m\n\u001b[0;32m    641\u001b[0m \u001b[43m        \u001b[49m\u001b[43mcaller_name\u001b[49m\u001b[38;5;241;43m=\u001b[39;49m\u001b[38;5;28;43mself\u001b[39;49m\u001b[38;5;241;43m.\u001b[39;49m\u001b[38;5;18;43m__class__\u001b[39;49m\u001b[38;5;241;43m.\u001b[39;49m\u001b[38;5;18;43m__name__\u001b[39;49m\u001b[43m,\u001b[49m\n\u001b[0;32m    642\u001b[0m \u001b[43m    \u001b[49m\u001b[43m)\u001b[49m\n",
      "File \u001b[1;32mc:\\Users\\omarm\\Documents\\Repositories\\Energy_Consumption-Analysis\\env\\lib\\site-packages\\sklearn\\utils\\_param_validation.py:96\u001b[0m, in \u001b[0;36mvalidate_parameter_constraints\u001b[1;34m(parameter_constraints, params, caller_name)\u001b[0m\n\u001b[0;32m     90\u001b[0m \u001b[38;5;28;01melse\u001b[39;00m:\n\u001b[0;32m     91\u001b[0m     constraints_str \u001b[38;5;241m=\u001b[39m (\n\u001b[0;32m     92\u001b[0m         \u001b[38;5;124mf\u001b[39m\u001b[38;5;124m\"\u001b[39m\u001b[38;5;132;01m{\u001b[39;00m\u001b[38;5;124m'\u001b[39m\u001b[38;5;124m, \u001b[39m\u001b[38;5;124m'\u001b[39m\u001b[38;5;241m.\u001b[39mjoin([\u001b[38;5;28mstr\u001b[39m(c)\u001b[38;5;250m \u001b[39m\u001b[38;5;28;01mfor\u001b[39;00m\u001b[38;5;250m \u001b[39mc\u001b[38;5;250m \u001b[39m\u001b[38;5;129;01min\u001b[39;00m\u001b[38;5;250m \u001b[39mconstraints[:\u001b[38;5;241m-\u001b[39m\u001b[38;5;241m1\u001b[39m]])\u001b[38;5;132;01m}\u001b[39;00m\u001b[38;5;124m or\u001b[39m\u001b[38;5;124m\"\u001b[39m\n\u001b[0;32m     93\u001b[0m         \u001b[38;5;124mf\u001b[39m\u001b[38;5;124m\"\u001b[39m\u001b[38;5;124m \u001b[39m\u001b[38;5;132;01m{\u001b[39;00mconstraints[\u001b[38;5;241m-\u001b[39m\u001b[38;5;241m1\u001b[39m]\u001b[38;5;132;01m}\u001b[39;00m\u001b[38;5;124m\"\u001b[39m\n\u001b[0;32m     94\u001b[0m     )\n\u001b[1;32m---> 96\u001b[0m \u001b[38;5;28;01mraise\u001b[39;00m InvalidParameterError(\n\u001b[0;32m     97\u001b[0m     \u001b[38;5;124mf\u001b[39m\u001b[38;5;124m\"\u001b[39m\u001b[38;5;124mThe \u001b[39m\u001b[38;5;132;01m{\u001b[39;00mparam_name\u001b[38;5;132;01m!r}\u001b[39;00m\u001b[38;5;124m parameter of \u001b[39m\u001b[38;5;132;01m{\u001b[39;00mcaller_name\u001b[38;5;132;01m}\u001b[39;00m\u001b[38;5;124m must be\u001b[39m\u001b[38;5;124m\"\u001b[39m\n\u001b[0;32m     98\u001b[0m     \u001b[38;5;124mf\u001b[39m\u001b[38;5;124m\"\u001b[39m\u001b[38;5;124m \u001b[39m\u001b[38;5;132;01m{\u001b[39;00mconstraints_str\u001b[38;5;132;01m}\u001b[39;00m\u001b[38;5;124m. Got \u001b[39m\u001b[38;5;132;01m{\u001b[39;00mparam_val\u001b[38;5;132;01m!r}\u001b[39;00m\u001b[38;5;124m instead.\u001b[39m\u001b[38;5;124m\"\u001b[39m\n\u001b[0;32m     99\u001b[0m )\n",
      "\u001b[1;31mInvalidParameterError\u001b[0m: The 'strategy' parameter of SimpleImputer must be a str among {'constant', 'mean', 'most_frequent', 'median'}. Got 'mode' instead."
     ]
    }
   ],
   "source": [
    "for col in range(len(cat_col)):\n",
    "    imputer = SimpleImputer(strategy='mode')\n",
    "    df[cat_col[col]] = imputer.fit_transform(df[cat_col[col]].values.reshape(-1,1))\n",
    "print('Total missing values: ', df.isnull().sum().sum())"
   ]
  },
  {
   "cell_type": "markdown",
   "metadata": {},
   "source": [
    " ### Checking Duplicates"
   ]
  },
  {
   "cell_type": "code",
   "execution_count": 11,
   "metadata": {},
   "outputs": [
    {
     "data": {
      "text/plain": [
       "0"
      ]
     },
     "execution_count": 11,
     "metadata": {},
     "output_type": "execute_result"
    }
   ],
   "source": [
    "df.duplicated().sum()"
   ]
  },
  {
   "cell_type": "markdown",
   "metadata": {},
   "source": [
    "There are no duplicates"
   ]
  },
  {
   "cell_type": "code",
   "execution_count": 12,
   "metadata": {},
   "outputs": [
    {
     "name": "stdout",
     "output_type": "stream",
     "text": [
      "258       636.0\n",
      "2536      114.0\n",
      "2933      404.0\n",
      "3215      281.0\n",
      "4087      727.0\n",
      "          ...  \n",
      "60432     360.0\n",
      "61127     469.0\n",
      "62227    2074.0\n",
      "63773    1117.0\n",
      "66492     904.0\n",
      "Name: ELECTRICITY ACCOUNTS, Length: 77, dtype: float64\n"
     ]
    }
   ],
   "source": [
    "print(df[df['CENSUS BLOCK'].isnull()]['ELECTRICITY ACCOUNTS'])\n"
   ]
  }
 ],
 "metadata": {
  "kernelspec": {
   "display_name": "Python 3",
   "language": "python",
   "name": "python3"
  },
  "language_info": {
   "codemirror_mode": {
    "name": "ipython",
    "version": 3
   },
   "file_extension": ".py",
   "mimetype": "text/x-python",
   "name": "python",
   "nbconvert_exporter": "python",
   "pygments_lexer": "ipython3",
   "version": "3.8.0"
  }
 },
 "nbformat": 4,
 "nbformat_minor": 2
}
