{
 "cells": [
  {
   "cell_type": "markdown",
   "metadata": {},
   "source": [
    "# Exploratory Data Analysis: Energy Consumption For Chicago In 2010"
   ]
  },
  {
   "cell_type": "markdown",
   "metadata": {},
   "source": [
    "## Life cycle of machine learning project:\n",
    "1. Understanding the problem\n",
    "1. Data collection\n",
    "1. Data checks to perform \n",
    "1. Exploratory data analysis\n",
    "1. Data pre-preocessing\n",
    "1. Model Training\n",
    "1. Choose best model"
   ]
  },
  {
   "cell_type": "markdown",
   "metadata": {},
   "source": [
    "### 1: Understanding the problem\n",
    "The point of this project is to show how energy consumption is affected by variables such as time of the year, type of building, size of building, number of people, etc."
   ]
  },
  {
   "cell_type": "markdown",
   "metadata": {},
   "source": [
    "### 2: Data Collection\n",
    "Dataset <a href='https://data.cityofchicago.org/Environment-Sustainable-Development/Energy-Usage-2010/8yq3-m6wp/about_data'>source</a>\n"
   ]
  },
  {
   "cell_type": "markdown",
   "metadata": {},
   "source": [
    "### 2.1: Import data and required packages"
   ]
  },
  {
   "cell_type": "code",
   "execution_count": 1,
   "metadata": {},
   "outputs": [],
   "source": [
    "import pandas as pd\n",
    "import numpy as np\n",
    "import seaborn as sb\n",
    "import matplotlib.pyplot as plt\n",
    "%matplotlib inline\n",
    "import warnings\n",
    "warnings.filterwarnings('ignore')\n",
    "from sklearn.impute import SimpleImputer"
   ]
  },
  {
   "cell_type": "markdown",
   "metadata": {},
   "source": [
    "### Read and print 5 first rows of dataset"
   ]
  },
  {
   "cell_type": "code",
   "execution_count": 2,
   "metadata": {},
   "outputs": [
    {
     "data": {
      "text/html": [
       "<div>\n",
       "<style scoped>\n",
       "    .dataframe tbody tr th:only-of-type {\n",
       "        vertical-align: middle;\n",
       "    }\n",
       "\n",
       "    .dataframe tbody tr th {\n",
       "        vertical-align: top;\n",
       "    }\n",
       "\n",
       "    .dataframe thead th {\n",
       "        text-align: right;\n",
       "    }\n",
       "</style>\n",
       "<table border=\"1\" class=\"dataframe\">\n",
       "  <thead>\n",
       "    <tr style=\"text-align: right;\">\n",
       "      <th></th>\n",
       "      <th>COMMUNITY AREA NAME</th>\n",
       "      <th>CENSUS BLOCK</th>\n",
       "      <th>BUILDING TYPE</th>\n",
       "      <th>BUILDING_SUBTYPE</th>\n",
       "      <th>KWH JANUARY 2010</th>\n",
       "      <th>KWH FEBRUARY 2010</th>\n",
       "      <th>KWH MARCH 2010</th>\n",
       "      <th>KWH APRIL 2010</th>\n",
       "      <th>KWH MAY 2010</th>\n",
       "      <th>KWH JUNE 2010</th>\n",
       "      <th>...</th>\n",
       "      <th>TOTAL POPULATION</th>\n",
       "      <th>TOTAL UNITS</th>\n",
       "      <th>AVERAGE STORIES</th>\n",
       "      <th>AVERAGE BUILDING AGE</th>\n",
       "      <th>AVERAGE HOUSESIZE</th>\n",
       "      <th>OCCUPIED UNITS</th>\n",
       "      <th>OCCUPIED UNITS PERCENTAGE</th>\n",
       "      <th>RENTER-OCCUPIED HOUSING UNITS</th>\n",
       "      <th>RENTER-OCCUPIED HOUSING PERCENTAGE</th>\n",
       "      <th>OCCUPIED HOUSING UNITS</th>\n",
       "    </tr>\n",
       "  </thead>\n",
       "  <tbody>\n",
       "    <tr>\n",
       "      <th>0</th>\n",
       "      <td>Archer Heights</td>\n",
       "      <td>1.703157e+14</td>\n",
       "      <td>Residential</td>\n",
       "      <td>Multi &lt; 7</td>\n",
       "      <td>NaN</td>\n",
       "      <td>NaN</td>\n",
       "      <td>NaN</td>\n",
       "      <td>NaN</td>\n",
       "      <td>NaN</td>\n",
       "      <td>NaN</td>\n",
       "      <td>...</td>\n",
       "      <td>89.0</td>\n",
       "      <td>24.0</td>\n",
       "      <td>2.0</td>\n",
       "      <td>71.33</td>\n",
       "      <td>3.87</td>\n",
       "      <td>23.0</td>\n",
       "      <td>0.9582</td>\n",
       "      <td>9.0</td>\n",
       "      <td>0.3910</td>\n",
       "      <td>23.0</td>\n",
       "    </tr>\n",
       "    <tr>\n",
       "      <th>1</th>\n",
       "      <td>Ashburn</td>\n",
       "      <td>1.703170e+14</td>\n",
       "      <td>Residential</td>\n",
       "      <td>Multi 7+</td>\n",
       "      <td>7334.0</td>\n",
       "      <td>7741.0</td>\n",
       "      <td>4214.0</td>\n",
       "      <td>4284.0</td>\n",
       "      <td>2518.0</td>\n",
       "      <td>4273.0</td>\n",
       "      <td>...</td>\n",
       "      <td>112.0</td>\n",
       "      <td>67.0</td>\n",
       "      <td>2.0</td>\n",
       "      <td>41.00</td>\n",
       "      <td>1.81</td>\n",
       "      <td>62.0</td>\n",
       "      <td>0.9254</td>\n",
       "      <td>50.0</td>\n",
       "      <td>0.8059</td>\n",
       "      <td>62.0</td>\n",
       "    </tr>\n",
       "    <tr>\n",
       "      <th>2</th>\n",
       "      <td>Auburn Gresham</td>\n",
       "      <td>1.703171e+14</td>\n",
       "      <td>Commercial</td>\n",
       "      <td>Multi &lt; 7</td>\n",
       "      <td>NaN</td>\n",
       "      <td>NaN</td>\n",
       "      <td>NaN</td>\n",
       "      <td>NaN</td>\n",
       "      <td>NaN</td>\n",
       "      <td>NaN</td>\n",
       "      <td>...</td>\n",
       "      <td>102.0</td>\n",
       "      <td>48.0</td>\n",
       "      <td>3.0</td>\n",
       "      <td>86.00</td>\n",
       "      <td>3.00</td>\n",
       "      <td>34.0</td>\n",
       "      <td>0.7082</td>\n",
       "      <td>23.0</td>\n",
       "      <td>0.6759</td>\n",
       "      <td>34.0</td>\n",
       "    </tr>\n",
       "    <tr>\n",
       "      <th>3</th>\n",
       "      <td>Austin</td>\n",
       "      <td>1.703125e+14</td>\n",
       "      <td>Commercial</td>\n",
       "      <td>Multi &lt; 7</td>\n",
       "      <td>NaN</td>\n",
       "      <td>NaN</td>\n",
       "      <td>NaN</td>\n",
       "      <td>NaN</td>\n",
       "      <td>NaN</td>\n",
       "      <td>NaN</td>\n",
       "      <td>...</td>\n",
       "      <td>121.0</td>\n",
       "      <td>56.0</td>\n",
       "      <td>2.0</td>\n",
       "      <td>84.00</td>\n",
       "      <td>2.95</td>\n",
       "      <td>41.0</td>\n",
       "      <td>0.7321</td>\n",
       "      <td>32.0</td>\n",
       "      <td>0.7800</td>\n",
       "      <td>41.0</td>\n",
       "    </tr>\n",
       "    <tr>\n",
       "      <th>4</th>\n",
       "      <td>Austin</td>\n",
       "      <td>1.703125e+14</td>\n",
       "      <td>Commercial</td>\n",
       "      <td>Multi &lt; 7</td>\n",
       "      <td>NaN</td>\n",
       "      <td>NaN</td>\n",
       "      <td>NaN</td>\n",
       "      <td>NaN</td>\n",
       "      <td>NaN</td>\n",
       "      <td>NaN</td>\n",
       "      <td>...</td>\n",
       "      <td>62.0</td>\n",
       "      <td>23.0</td>\n",
       "      <td>2.0</td>\n",
       "      <td>85.00</td>\n",
       "      <td>3.26</td>\n",
       "      <td>19.0</td>\n",
       "      <td>0.8261</td>\n",
       "      <td>11.0</td>\n",
       "      <td>0.5790</td>\n",
       "      <td>19.0</td>\n",
       "    </tr>\n",
       "  </tbody>\n",
       "</table>\n",
       "<p>5 rows × 73 columns</p>\n",
       "</div>"
      ],
      "text/plain": [
       "  COMMUNITY AREA NAME  CENSUS BLOCK BUILDING TYPE BUILDING_SUBTYPE  \\\n",
       "0      Archer Heights  1.703157e+14   Residential        Multi < 7   \n",
       "1             Ashburn  1.703170e+14   Residential         Multi 7+   \n",
       "2      Auburn Gresham  1.703171e+14    Commercial        Multi < 7   \n",
       "3              Austin  1.703125e+14    Commercial        Multi < 7   \n",
       "4              Austin  1.703125e+14    Commercial        Multi < 7   \n",
       "\n",
       "   KWH JANUARY 2010  KWH FEBRUARY 2010  KWH MARCH 2010  KWH APRIL 2010  \\\n",
       "0               NaN                NaN             NaN             NaN   \n",
       "1            7334.0             7741.0          4214.0          4284.0   \n",
       "2               NaN                NaN             NaN             NaN   \n",
       "3               NaN                NaN             NaN             NaN   \n",
       "4               NaN                NaN             NaN             NaN   \n",
       "\n",
       "   KWH MAY 2010  KWH JUNE 2010  ...  TOTAL POPULATION  TOTAL UNITS  \\\n",
       "0           NaN            NaN  ...              89.0         24.0   \n",
       "1        2518.0         4273.0  ...             112.0         67.0   \n",
       "2           NaN            NaN  ...             102.0         48.0   \n",
       "3           NaN            NaN  ...             121.0         56.0   \n",
       "4           NaN            NaN  ...              62.0         23.0   \n",
       "\n",
       "   AVERAGE STORIES  AVERAGE BUILDING AGE  AVERAGE HOUSESIZE  OCCUPIED UNITS  \\\n",
       "0              2.0                 71.33               3.87            23.0   \n",
       "1              2.0                 41.00               1.81            62.0   \n",
       "2              3.0                 86.00               3.00            34.0   \n",
       "3              2.0                 84.00               2.95            41.0   \n",
       "4              2.0                 85.00               3.26            19.0   \n",
       "\n",
       "   OCCUPIED UNITS PERCENTAGE RENTER-OCCUPIED HOUSING UNITS  \\\n",
       "0                     0.9582                           9.0   \n",
       "1                     0.9254                          50.0   \n",
       "2                     0.7082                          23.0   \n",
       "3                     0.7321                          32.0   \n",
       "4                     0.8261                          11.0   \n",
       "\n",
       "   RENTER-OCCUPIED HOUSING PERCENTAGE  OCCUPIED HOUSING UNITS  \n",
       "0                              0.3910                    23.0  \n",
       "1                              0.8059                    62.0  \n",
       "2                              0.6759                    34.0  \n",
       "3                              0.7800                    41.0  \n",
       "4                              0.5790                    19.0  \n",
       "\n",
       "[5 rows x 73 columns]"
      ]
     },
     "execution_count": 2,
     "metadata": {},
     "output_type": "execute_result"
    }
   ],
   "source": [
    "df = pd.read_csv('data/chicago_energy_consumption.csv')\n",
    "df.head()"
   ]
  },
  {
   "cell_type": "markdown",
   "metadata": {},
   "source": [
    "### Shape of dataset"
   ]
  },
  {
   "cell_type": "code",
   "execution_count": 3,
   "metadata": {},
   "outputs": [
    {
     "name": "stdout",
     "output_type": "stream",
     "text": [
      "Columns:  73\n",
      "Rows:  67051\n"
     ]
    }
   ],
   "source": [
    "print('Columns: ',df.shape[1])\n",
    "print('Rows: ',df.shape[0])"
   ]
  },
  {
   "cell_type": "markdown",
   "metadata": {},
   "source": [
    "### 2.2: Dataset information"
   ]
  },
  {
   "cell_type": "markdown",
   "metadata": {},
   "source": [
    "### Dataset description\n",
    "For an in-depth look at the dataset click <a href='data_description.md'> here</a>"
   ]
  },
  {
   "cell_type": "markdown",
   "metadata": {},
   "source": [
    "### List of all columns"
   ]
  },
  {
   "cell_type": "code",
   "execution_count": 4,
   "metadata": {},
   "outputs": [
    {
     "data": {
      "text/plain": [
       "array(['COMMUNITY AREA NAME', 'CENSUS BLOCK', 'BUILDING TYPE',\n",
       "       'BUILDING_SUBTYPE', 'KWH JANUARY 2010', 'KWH FEBRUARY 2010',\n",
       "       'KWH MARCH 2010', 'KWH APRIL 2010', 'KWH MAY 2010',\n",
       "       'KWH JUNE 2010', 'KWH JULY 2010', 'KWH AUGUST 2010',\n",
       "       'KWH SEPTEMBER 2010', 'KWH OCTOBER 2010', 'KWH NOVEMBER 2010',\n",
       "       'KWH DECEMBER 2010', 'TOTAL KWH', 'ELECTRICITY ACCOUNTS',\n",
       "       'ZERO KWH ACCOUNTS', 'THERM JANUARY 2010', 'THERM FEBRUARY 2010',\n",
       "       'THERM MARCH 2010', 'TERM APRIL 2010', 'THERM MAY 2010',\n",
       "       'THERM JUNE 2010', 'THERM JULY 2010', 'THERM AUGUST 2010',\n",
       "       'THERM SEPTEMBER 2010', 'THERM OCTOBER 2010',\n",
       "       'THERM NOVEMBER 2010', 'THERM DECEMBER 2010', 'TOTAL THERMS',\n",
       "       'GAS ACCOUNTS', 'KWH TOTAL SQFT', 'THERMS TOTAL SQFT',\n",
       "       'KWH MEAN 2010', 'KWH STANDARD DEVIATION 2010', 'KWH MINIMUM 2010',\n",
       "       'KWH 1ST QUARTILE 2010', 'KWH 2ND QUARTILE 2010',\n",
       "       'KWH 3RD QUARTILE 2010', 'KWH MAXIMUM 2010', 'KWH SQFT MEAN 2010',\n",
       "       'KWH SQFT STANDARD DEVIATION 2010', 'KWH SQFT MINIMUM 2010',\n",
       "       'KWH SQFT 1ST QUARTILE 2010', 'KWH SQFT 2ND QUARTILE 2010',\n",
       "       'KWH SQFT 3RD QUARTILE 2010', 'KWH SQFT MAXIMUM 2010',\n",
       "       'THERM MEAN 2010', 'THERM STANDARD DEVIATION 2010',\n",
       "       'THERM MINIMUM 2010', 'THERM 1ST QUARTILE 2010',\n",
       "       'THERM 2ND QUARTILE 2010', 'THERM 3RD QUARTILE 2010',\n",
       "       'THERM MAXIMUM 2010', 'THERMS SQFT MEAN 2010',\n",
       "       'THERMS SQFT STANDARD DEVIATION 2010', 'THERMS SQFT MINIMUM 2010',\n",
       "       'THERMS SQFT 1ST QUARTILE 2010', 'THERMS SQFT 2ND QUARTILE 2010',\n",
       "       'THERMS SQFT 3RD QUARTILE 2010', 'THERMS SQFT MAXIMUM 2010',\n",
       "       'TOTAL POPULATION', 'TOTAL UNITS', 'AVERAGE STORIES',\n",
       "       'AVERAGE BUILDING AGE', 'AVERAGE HOUSESIZE', 'OCCUPIED UNITS',\n",
       "       'OCCUPIED UNITS PERCENTAGE', 'RENTER-OCCUPIED HOUSING UNITS',\n",
       "       'RENTER-OCCUPIED HOUSING PERCENTAGE', 'OCCUPIED HOUSING UNITS'],\n",
       "      dtype=object)"
      ]
     },
     "execution_count": 4,
     "metadata": {},
     "output_type": "execute_result"
    }
   ],
   "source": [
    "df.columns.values"
   ]
  },
  {
   "cell_type": "code",
   "execution_count": 5,
   "metadata": {},
   "outputs": [],
   "source": [
    "# the column 'TERM APRIL 2010' is mispelled\n",
    "df.rename(columns={'TERM APRIL 2010': 'THERM APRIL 2010'}, inplace=True)"
   ]
  },
  {
   "cell_type": "markdown",
   "metadata": {},
   "source": [
    "### 3: Data Checks to Perform\n",
    "- Missing values\n",
    "- Duplicates\n",
    "- Different categories present in categorical columns\n",
    "- Dataset statistics "
   ]
  },
  {
   "cell_type": "markdown",
   "metadata": {},
   "source": [
    "#### Missing Values\n",
    " Finding missing values\n"
   ]
  },
  {
   "cell_type": "code",
   "execution_count": 6,
   "metadata": {},
   "outputs": [
    {
     "name": "stdout",
     "output_type": "stream",
     "text": [
      "COMMUNITY AREA NAME                        0\n",
      "CENSUS BLOCK                              77\n",
      "BUILDING TYPE                             77\n",
      "BUILDING_SUBTYPE                          77\n",
      "KWH JANUARY 2010                         871\n",
      "KWH FEBRUARY 2010                        871\n",
      "KWH MARCH 2010                           871\n",
      "KWH APRIL 2010                           871\n",
      "KWH MAY 2010                             871\n",
      "KWH JUNE 2010                            871\n",
      "KWH JULY 2010                            871\n",
      "KWH AUGUST 2010                          871\n",
      "KWH SEPTEMBER 2010                       871\n",
      "KWH OCTOBER 2010                         871\n",
      "KWH NOVEMBER 2010                        871\n",
      "KWH DECEMBER 2010                        871\n",
      "TOTAL KWH                                871\n",
      "ELECTRICITY ACCOUNTS                     871\n",
      "ZERO KWH ACCOUNTS                          0\n",
      "THERM JANUARY 2010                      2230\n",
      "THERM FEBRUARY 2010                     4232\n",
      "THERM MARCH 2010                        1482\n",
      "THERM APRIL 2010                        1575\n",
      "THERM MAY 2010                          1857\n",
      "THERM JUNE 2010                         1767\n",
      "THERM JULY 2010                         1820\n",
      "THERM AUGUST 2010                       1908\n",
      "THERM SEPTEMBER 2010                    2282\n",
      "THERM OCTOBER 2010                      1722\n",
      "THERM NOVEMBER 2010                     1559\n",
      "THERM DECEMBER 2010                     1544\n",
      "TOTAL THERMS                            1296\n",
      "GAS ACCOUNTS                            1296\n",
      "KWH TOTAL SQFT                          1150\n",
      "THERMS TOTAL SQFT                       1673\n",
      "KWH MEAN 2010                            871\n",
      "KWH STANDARD DEVIATION 2010             9956\n",
      "KWH MINIMUM 2010                         871\n",
      "KWH 1ST QUARTILE 2010                    871\n",
      "KWH 2ND QUARTILE 2010                    871\n",
      "KWH 3RD QUARTILE 2010                    871\n",
      "KWH MAXIMUM 2010                         871\n",
      "KWH SQFT MEAN 2010                      1150\n",
      "KWH SQFT STANDARD DEVIATION 2010       15385\n",
      "KWH SQFT MINIMUM 2010                   1150\n",
      "KWH SQFT 1ST QUARTILE 2010              1150\n",
      "KWH SQFT 2ND QUARTILE 2010              1150\n",
      "KWH SQFT 3RD QUARTILE 2010              1150\n",
      "KWH SQFT MAXIMUM 2010                   1150\n",
      "THERM MEAN 2010                         1296\n",
      "THERM STANDARD DEVIATION 2010          10230\n",
      "THERM MINIMUM 2010                      1296\n",
      "THERM 1ST QUARTILE 2010                 1296\n",
      "THERM 2ND QUARTILE 2010                 1296\n",
      "THERM 3RD QUARTILE 2010                 1296\n",
      "THERM MAXIMUM 2010                      1296\n",
      "THERMS SQFT MEAN 2010                   1673\n",
      "THERMS SQFT STANDARD DEVIATION 2010    15684\n",
      "THERMS SQFT MINIMUM 2010                1673\n",
      "THERMS SQFT 1ST QUARTILE 2010           1673\n",
      "THERMS SQFT 2ND QUARTILE 2010           1673\n",
      "THERMS SQFT 3RD QUARTILE 2010           1673\n",
      "THERMS SQFT MAXIMUM 2010                1673\n",
      "TOTAL POPULATION                          14\n",
      "TOTAL UNITS                               14\n",
      "AVERAGE STORIES                            0\n",
      "AVERAGE BUILDING AGE                       0\n",
      "AVERAGE HOUSESIZE                         14\n",
      "OCCUPIED UNITS                            14\n",
      "OCCUPIED UNITS PERCENTAGE               2445\n",
      "RENTER-OCCUPIED HOUSING UNITS             14\n",
      "RENTER-OCCUPIED HOUSING PERCENTAGE      2618\n",
      "OCCUPIED HOUSING UNITS                    14\n",
      "dtype: int64\n",
      "Total missing values:  128160\n"
     ]
    }
   ],
   "source": [
    "with pd.option_context('display.max_rows', None, 'display.max_columns', None):  # more options can be specified also\n",
    "    print(df.isnull().sum())\n",
    "    print('Total missing values: ', df.isnull().sum().sum())"
   ]
  },
  {
   "cell_type": "markdown",
   "metadata": {},
   "source": [
    "#### Missing Values\n",
    "Deleting 871 rows where electric data is not available."
   ]
  },
  {
   "cell_type": "code",
   "execution_count": 7,
   "metadata": {},
   "outputs": [
    {
     "name": "stdout",
     "output_type": "stream",
     "text": [
      "Total missing values:  100479\n"
     ]
    }
   ],
   "source": [
    "df = df.dropna(subset=['TOTAL KWH'])\n",
    "print('Total missing values: ', df.isnull().sum().sum())"
   ]
  },
  {
   "cell_type": "markdown",
   "metadata": {},
   "source": [
    "#### Missing Values\n",
    "Using imputation to andle missing values. Numerical values will be handled with the average in each column. Categorical features will be handled with the mode of each column. "
   ]
  },
  {
   "cell_type": "code",
   "execution_count": 8,
   "metadata": {},
   "outputs": [],
   "source": [
    "# Creating 2 lists for categrical and numerical columns\n",
    "cat_col = [i for i in df.columns.values if df[i].dtypes=='O']\n",
    "num_col = [i for i in df.columns.values if df[i].dtypes=='float64' or df[i].dtypes=='int64']\n",
    "#cat_col, num_col"
   ]
  },
  {
   "cell_type": "markdown",
   "metadata": {},
   "source": [
    "'CENCUS BLOCK' should be a categorical data type because it is describing an area, similar to how zipcodes work. Will simply convert this to object data type.\n",
    "\n",
    "'ELECTRICITY ACCOUNTS' and 'GAS ACCOUNTS' data types are returning as categorical because of the value \"Less than 4\". For simplcity, will replace \"Less than 4\" with 3 and then convert to float64. Will also add new boolean column to indicate which rows ave less than 4 accounts\n"
   ]
  },
  {
   "cell_type": "code",
   "execution_count": 9,
   "metadata": {},
   "outputs": [],
   "source": [
    "df['GAS ACCOUNTS'].replace('Less than 4', 3, inplace=True)\n",
    "df['ELECTRICITY ACCOUNTS'].replace('Less than 4', 3, inplace=True)\n",
    "\n",
    "# Correcting to appropriate data types\n",
    "df = df.astype({'CENSUS BLOCK':'object','ELECTRICITY ACCOUNTS': 'float64', 'GAS ACCOUNTS': 'float64' })\n",
    " \n",
    "df['GAS ACCOUNTS < 4']= np.where(df['GAS ACCOUNTS'] < 4, True, False)\n",
    "df['ELECTRIC ACCOUNTS < 4']= np.where(df['ELECTRICITY ACCOUNTS'] < 4, True, False)"
   ]
  },
  {
   "cell_type": "code",
   "execution_count": 10,
   "metadata": {},
   "outputs": [
    {
     "data": {
      "text/plain": [
       "dtype('O')"
      ]
     },
     "execution_count": 10,
     "metadata": {},
     "output_type": "execute_result"
    }
   ],
   "source": [
    "df['CENSUS BLOCK'].dtypes"
   ]
  },
  {
   "cell_type": "code",
   "execution_count": 11,
   "metadata": {},
   "outputs": [],
   "source": [
    "# Correcting lists\n",
    "cat_col = [i for i in df.columns.values if df[i].dtypes=='O']\n",
    "num_col = [i for i in df.columns.values if df[i].dtypes=='float64' or df[i].dtypes=='int64']\n",
    "bool_col = [i for i in df.columns.values if df[i].dtypes=='bool']\n",
    "#cat_col, num_col, bool_col"
   ]
  },
  {
   "cell_type": "code",
   "execution_count": 12,
   "metadata": {},
   "outputs": [
    {
     "name": "stdout",
     "output_type": "stream",
     "text": [
      "Total missing values:  231\n"
     ]
    }
   ],
   "source": [
    "for col in num_col:\n",
    "    imputer = SimpleImputer(strategy='mean')\n",
    "    df[col] = imputer.fit_transform(df[col].values.reshape(-1,1))\n",
    "print('Total missing values: ', df.isnull().sum().sum())"
   ]
  },
  {
   "cell_type": "code",
   "execution_count": 13,
   "metadata": {},
   "outputs": [
    {
     "name": "stdout",
     "output_type": "stream",
     "text": [
      "Total missing values:  0\n"
     ]
    }
   ],
   "source": [
    "for col in cat_col:\n",
    "    df[col] = df[col].fillna(df[col].mode()[0]).astype('object')\n",
    "\n",
    "print('Total missing values: ', df.isnull().sum().sum())"
   ]
  },
  {
   "cell_type": "code",
   "execution_count": 14,
   "metadata": {},
   "outputs": [
    {
     "data": {
      "text/plain": [
       "170318363002005.0"
      ]
     },
     "execution_count": 14,
     "metadata": {},
     "output_type": "execute_result"
    }
   ],
   "source": [
    "df['CENSUS BLOCK'].mode()[0]"
   ]
  },
  {
   "cell_type": "markdown",
   "metadata": {},
   "source": [
    " ### Checking Duplicates"
   ]
  },
  {
   "cell_type": "code",
   "execution_count": 15,
   "metadata": {},
   "outputs": [
    {
     "data": {
      "text/plain": [
       "0"
      ]
     },
     "execution_count": 15,
     "metadata": {},
     "output_type": "execute_result"
    }
   ],
   "source": [
    "df.duplicated().sum()"
   ]
  },
  {
   "cell_type": "markdown",
   "metadata": {},
   "source": [
    "There are no duplicates"
   ]
  },
  {
   "cell_type": "markdown",
   "metadata": {},
   "source": [
    "### Values inside of categorical columns"
   ]
  },
  {
   "cell_type": "code",
   "execution_count": 16,
   "metadata": {},
   "outputs": [
    {
     "name": "stdout",
     "output_type": "stream",
     "text": [
      "COMMUNITY AREA NAME\n",
      "['Ashburn' 'Austin' 'Avondale' 'Belmont Cragin' 'Brighton Park' 'Chatham'\n",
      " 'Chicago Lawn' 'Clearing' 'Dunning' 'East Side' 'Edgewater' 'Englewood'\n",
      " 'Gage Park' 'Garfield Ridge' 'Grand Boulevard' 'Hermosa' 'Humboldt Park'\n",
      " 'Hyde Park' 'Lakeview' 'Lincoln Park' 'Lincoln Square' 'Logan Square'\n",
      " 'Loop' 'Morgan Park' 'Near North Side' 'Near West Side' 'New City'\n",
      " 'North Center' 'North Lawndale' 'North Park' 'Norwood Park' \"O'Hare\"\n",
      " 'Oakland' 'Portage Park' 'Pullman' 'Rogers Park' 'Roseland'\n",
      " 'South Chicago' 'South Lawndale' 'South Shore' 'Uptown' 'Irving Park'\n",
      " 'West Englewood' 'West Garfield Park' 'Albany Park' 'Auburn Gresham'\n",
      " 'Fuller Park' 'West Ridge' 'Bridgeport' 'West Town' 'Calumet Heights'\n",
      " 'Woodlawn' 'Archer Heights' 'Burnside' 'East Garfield Park'\n",
      " 'Lower West Side' 'Montclare' 'Greater Grand Crossing' 'Hegewisch'\n",
      " 'Jefferson Park' 'Armour Square' 'Beverly' 'Washington Park' 'West Lawn'\n",
      " 'West Pullman' 'Kenwood' 'Avalon Park' 'Douglas' 'Forest Glen'\n",
      " 'South Deering' 'Washington Heights' 'McKinley Park' 'Mount Greenwood'\n",
      " 'Near South Side' 'West Elsdon' 'Edison Park' 'Riverdale']\n",
      "CENSUS BLOCK\n",
      "[170317005014004.0 170312517001044.0 170312520004000.0 ...\n",
      " 170318439002012.0 170318439002013.0 170318439002014.0]\n",
      "BUILDING TYPE\n",
      "['Residential' 'Commercial' 'Industrial']\n",
      "BUILDING_SUBTYPE\n",
      "['Multi 7+' 'Commercial' 'Multi < 7' 'Municipal' 'Single Family'\n",
      " 'Industrial']\n"
     ]
    }
   ],
   "source": [
    "for col in cat_col:\n",
    "    print(col, df[col].unique(), sep='\\n')"
   ]
  },
  {
   "cell_type": "markdown",
   "metadata": {},
   "source": [
    "### Statistics"
   ]
  },
  {
   "cell_type": "code",
   "execution_count": 17,
   "metadata": {},
   "outputs": [
    {
     "name": "stdout",
     "output_type": "stream",
     "text": [
      "KWH JANUARY 2010 :  17581.587790873375\n",
      "KWH FEBRUARY 2010 :  17376.51384103959\n",
      "KWH MARCH 2010 :  16242.122151707465\n",
      "KWH APRIL 2010 :  15956.963795708672\n",
      "KWH MAY 2010 :  19066.22780296162\n",
      "KWH JUNE 2010 :  23004.85256875189\n",
      "KWH JULY 2010 :  24828.906980961016\n",
      "KWH AUGUST 2010 :  22675.264143245695\n",
      "KWH SEPTEMBER 2010 :  18564.097159262616\n",
      "KWH OCTOBER 2010 :  17241.260773647628\n",
      "KWH NOVEMBER 2010 :  21017.981051677245\n",
      "KWH DECEMBER 2010 :  23962.983303112724\n",
      "TOTAL KWH :  237518.76136294953\n",
      "ELECTRICITY ACCOUNTS :  14.184708371109096\n",
      "ZERO KWH ACCOUNTS :  5.260320338470837\n",
      "THERM JANUARY 2010 :  3931.0363468807595\n",
      "THERM FEBRUARY 2010 :  3431.3988974144045\n",
      "THERM MARCH 2010 :  2823.020356784307\n",
      "THERM APRIL 2010 :  1487.9233707587148\n",
      "THERM MAY 2010 :  972.3173701046617\n",
      "THERM JUNE 2010 :  615.7146245794639\n",
      "THERM JULY 2010 :  527.390120967742\n",
      "THERM AUGUST 2010 :  507.91598974916525\n",
      "THERM SEPTEMBER 2010 :  507.1356244630165\n",
      "THERM OCTOBER 2010 :  727.2078970196418\n",
      "THERM NOVEMBER 2010 :  1452.71648480727\n",
      "THERM DECEMBER 2010 :  3210.322157817451\n",
      "TOTAL THERMS :  19938.11707046421\n",
      "GAS ACCOUNTS :  11.998535848591336\n",
      "KWH TOTAL SQFT :  25640.022427580767\n",
      "THERMS TOTAL SQFT :  24537.59311392562\n",
      "KWH MEAN 2010 :  62882.97631761862\n",
      "KWH STANDARD DEVIATION 2010 :  42799.98542289167\n",
      "KWH MINIMUM 2010 :  36809.11124206709\n",
      "KWH 1ST QUARTILE 2010 :  39121.97284678151\n",
      "KWH 2ND QUARTILE 2010 :  55742.28138410396\n",
      "KWH 3RD QUARTILE 2010 :  85719.3326533696\n",
      "KWH MAXIMUM 2010 :  125736.55066485344\n",
      "KWH SQFT MEAN 2010 :  7690.9703399037935\n",
      "KWH SQFT STANDARD DEVIATION 2010 :  3576.1572869972515\n",
      "KWH SQFT MINIMUM 2010 :  5598.032548823234\n",
      "KWH SQFT 1ST QUARTILE 2010 :  5787.30183912232\n",
      "KWH SQFT 2ND QUARTILE 2010 :  7267.750588003216\n",
      "KWH SQFT 3RD QUARTILE 2010 :  9547.233501767803\n",
      "KWH SQFT MAXIMUM 2010 :  11479.643389326413\n",
      "THERM MEAN 2010 :  3910.76285679058\n",
      "THERM STANDARD DEVIATION 2010 :  2658.4302168371864\n",
      "THERM MINIMUM 2010 :  2143.656417606806\n",
      "THERM 1ST QUARTILE 2010 :  2425.403181061587\n",
      "THERM 2ND QUARTILE 2010 :  3471.697136428088\n",
      "THERM 3RD QUARTILE 2010 :  5272.55250138709\n",
      "THERM MAXIMUM 2010 :  8057.853708156094\n",
      "THERMS SQFT MEAN 2010 :  6905.029037313779\n",
      "THERMS SQFT STANDARD DEVIATION 2010 :  3219.4923401009264\n",
      "THERMS SQFT MINIMUM 2010 :  4990.975491031982\n",
      "THERMS SQFT 1ST QUARTILE 2010 :  5174.277202474151\n",
      "THERMS SQFT 2ND QUARTILE 2010 :  6503.148386996761\n",
      "THERMS SQFT 3RD QUARTILE 2010 :  8600.477390050693\n",
      "THERMS SQFT MAXIMUM 2010 :  10466.885640318103\n",
      "TOTAL POPULATION :  105.4181150439803\n",
      "TOTAL UNITS :  48.501042831665806\n",
      "AVERAGE STORIES :  1.8844052583862194\n",
      "AVERAGE BUILDING AGE :  71.75567391961317\n",
      "AVERAGE HOUSESIZE :  3.4677833026025455\n",
      "OCCUPIED UNITS :  42.48322401233261\n",
      "OCCUPIED UNITS PERCENTAGE :  0.8810294223600538\n",
      "RENTER-OCCUPIED HOUSING UNITS :  25.493425626454677\n",
      "RENTER-OCCUPIED HOUSING PERCENTAGE :  0.5104988537152189\n",
      "OCCUPIED HOUSING UNITS :  42.48322401233261\n"
     ]
    }
   ],
   "source": [
    "for col in num_col:\n",
    "    print(col, ': ', df[col].mean())"
   ]
  },
  {
   "cell_type": "code",
   "execution_count": 18,
   "metadata": {},
   "outputs": [
    {
     "name": "stdout",
     "output_type": "stream",
     "text": [
      "       KWH JANUARY 2010  KWH FEBRUARY 2010  KWH MARCH 2010  KWH APRIL 2010  \\\n",
      "count      6.618000e+04       6.618000e+04    6.618000e+04    6.618000e+04   \n",
      "mean       1.758159e+04       1.737651e+04    1.624212e+04    1.595696e+04   \n",
      "std        3.482508e+05       3.351910e+05    3.164713e+05    3.118232e+05   \n",
      "min        0.000000e+00       0.000000e+00    0.000000e+00    0.000000e+00   \n",
      "25%        1.370000e+03       1.613000e+03    1.586000e+03    1.579000e+03   \n",
      "50%        3.481500e+03       3.814000e+03    3.681500e+03    3.646000e+03   \n",
      "75%        7.157000e+03       7.410250e+03    7.059000e+03    7.010000e+03   \n",
      "max        5.298534e+07       4.787976e+07    4.413646e+07    4.222055e+07   \n",
      "\n",
      "       KWH MAY 2010  KWH JUNE 2010  KWH JULY 2010  KWH AUGUST 2010  \\\n",
      "count  6.618000e+04   6.618000e+04   6.618000e+04     6.618000e+04   \n",
      "mean   1.906623e+04   2.300485e+04   2.482891e+04     2.267526e+04   \n",
      "std    3.634429e+05   3.988582e+05   4.135955e+05     3.940989e+05   \n",
      "min    0.000000e+00   0.000000e+00   0.000000e+00     0.000000e+00   \n",
      "25%    1.957000e+03   2.700000e+03   3.203000e+03     2.837750e+03   \n",
      "50%    4.528000e+03   6.295000e+03   7.389000e+03     6.413500e+03   \n",
      "75%    8.943500e+03   1.282850e+04   1.465750e+04     1.229800e+04   \n",
      "max    4.861925e+07   5.256908e+07   5.513983e+07     5.158912e+07   \n",
      "\n",
      "       KWH SEPTEMBER 2010  KWH OCTOBER 2010  ...  TOTAL POPULATION  \\\n",
      "count        6.618000e+04      6.618000e+04  ...      66180.000000   \n",
      "mean         1.856410e+04      1.724126e+04  ...        105.418115   \n",
      "std          3.486212e+05      3.175960e+05  ...        806.388363   \n",
      "min          0.000000e+00      0.000000e+00  ...          0.000000   \n",
      "25%          2.027000e+03      1.953000e+03  ...         37.000000   \n",
      "50%          4.573000e+03      4.359000e+03  ...         64.000000   \n",
      "75%          8.634000e+03      8.176000e+03  ...        105.000000   \n",
      "max          4.450386e+07      4.225753e+07  ...      67388.000000   \n",
      "\n",
      "        TOTAL UNITS  AVERAGE STORIES  AVERAGE BUILDING AGE  AVERAGE HOUSESIZE  \\\n",
      "count  66180.000000     66180.000000          66180.000000       66180.000000   \n",
      "mean      48.501043         1.884405             71.755674           3.467783   \n",
      "std      429.620215         1.944484             33.957053          26.314247   \n",
      "min        0.000000         1.000000              0.000000           0.000000   \n",
      "25%       15.000000         1.147500             53.330000           2.150000   \n",
      "50%       25.000000         1.750000             80.000000           2.700000   \n",
      "75%       42.000000         2.000000             96.500000           3.320000   \n",
      "max    51372.000000       110.000000            158.000000        2061.920000   \n",
      "\n",
      "       OCCUPIED UNITS  OCCUPIED UNITS PERCENTAGE  \\\n",
      "count    66180.000000               66180.000000   \n",
      "mean        42.483224                   0.881029   \n",
      "std        373.356665                   0.127493   \n",
      "min          0.000000                   0.000000   \n",
      "25%         13.000000                   0.840000   \n",
      "50%         22.000000                   0.910100   \n",
      "75%         37.000000                   0.965500   \n",
      "max      43222.000000                   1.000000   \n",
      "\n",
      "       RENTER-OCCUPIED HOUSING UNITS  RENTER-OCCUPIED HOUSING PERCENTAGE  \\\n",
      "count                   66180.000000                        66180.000000   \n",
      "mean                       25.493426                            0.510499   \n",
      "std                       252.754945                            0.282657   \n",
      "min                         0.000000                            0.000000   \n",
      "25%                         3.000000                            0.294000   \n",
      "50%                        11.000000                            0.522000   \n",
      "75%                        23.000000                            0.724000   \n",
      "max                     28335.000000                            1.000000   \n",
      "\n",
      "       OCCUPIED HOUSING UNITS  \n",
      "count            66180.000000  \n",
      "mean                42.483224  \n",
      "std                373.356665  \n",
      "min                  0.000000  \n",
      "25%                 13.000000  \n",
      "50%                 22.000000  \n",
      "75%                 37.000000  \n",
      "max              43222.000000  \n",
      "\n",
      "[8 rows x 69 columns]\n"
     ]
    }
   ],
   "source": [
    "print(df.describe())"
   ]
  },
  {
   "cell_type": "markdown",
   "metadata": {},
   "source": [
    "### 4: Additional Infromation"
   ]
  },
  {
   "cell_type": "code",
   "execution_count": 19,
   "metadata": {},
   "outputs": [],
   "source": [
    "# Using weather libray 'meteostat' to get monthly average temperatures for Chicago 2010\n",
    "from meteostat import Point, Monthly\n",
    "from datetime import datetime\n",
    "\n",
    "# assign variable to proper coordinates\n",
    "chicago = Point(41.8781, -87.6298, 181)\n",
    "\n",
    "start = datetime(2010, 1, 1)\n",
    "end = datetime(2010, 12, 31)\n",
    "\n",
    "# fetch monthly data\n",
    "weather = Monthly(chicago, start, end)\n",
    "weather = weather.fetch()['tavg']\n",
    "\n",
    "# rename index\n",
    "weather.index = weather.index.strftime('%B')\n",
    "\n",
    "#weather"
   ]
  },
  {
   "cell_type": "markdown",
   "metadata": {},
   "source": [
    "#### Convert Therms to CCFs\n",
    "Currently the dataset measures natural gas consumption by the energy content(THERMS), however, common industry practice is to measure natural gas by volume(CCF). \n"
   ]
  },
  {
   "cell_type": "code",
   "execution_count": 20,
   "metadata": {},
   "outputs": [],
   "source": [
    "# create lambda function: ccf = therm * 100 \n",
    "ccf_convert = lambda x: x*100\n",
    "\n",
    "for col in num_col:\n",
    "    if 'THERM' in col:\n",
    "        df[col] = df[col].apply(ccf_convert).round(1)\n",
    "        df.rename(columns={col:col.replace('THERMS','CCF').replace('THERM','CCF')}, inplace=True)"
   ]
  }
 ],
 "metadata": {
  "kernelspec": {
   "display_name": "Python 3",
   "language": "python",
   "name": "python3"
  },
  "language_info": {
   "codemirror_mode": {
    "name": "ipython",
    "version": 3
   },
   "file_extension": ".py",
   "mimetype": "text/x-python",
   "name": "python",
   "nbconvert_exporter": "python",
   "pygments_lexer": "ipython3",
   "version": "3.8.0"
  }
 },
 "nbformat": 4,
 "nbformat_minor": 2
}
